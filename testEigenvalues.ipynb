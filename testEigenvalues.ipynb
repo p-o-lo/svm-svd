{
 "cells": [
  {
   "cell_type": "markdown",
   "metadata": {
    "hideCode": false,
    "hidePrompt": false
   },
   "source": [
    "# To better understand how it works svm\n",
    "\n",
    "## Diagonalization of  4x4 matrix. Wrong tentative. \n",
    "The first part was a tentative (wrong). I thought one could just take into account the ground \n",
    "state at each step of basis expansion, but it doesn't work like that; I need to calculate **all**\n",
    "the previous eigenvalues. Look after.... "
   ]
  },
  {
   "cell_type": "code",
   "execution_count": 1,
   "metadata": {
    "hideCode": false,
    "hideOutput": false,
    "hidePrompt": false
   },
   "outputs": [],
   "source": [
    "%matplotlib inline\n",
    "import numpy as np\n",
    "import matplotlib.pyplot as plt"
   ]
  },
  {
   "cell_type": "markdown",
   "metadata": {
    "hideCode": false,
    "hidePrompt": false
   },
   "source": [
    "This is the matrix to be diagonalized"
   ]
  },
  {
   "cell_type": "code",
   "execution_count": 2,
   "metadata": {
    "hideCode": false,
    "hidePrompt": false
   },
   "outputs": [],
   "source": [
    "a = np.matrix('2 2 3 2; 1 3 2 1; 7 2 6 1; 8 7 1 3 ')\n",
    "a = a + a.transpose()"
   ]
  },
  {
   "cell_type": "markdown",
   "metadata": {
    "hideCode": false,
    "hidePrompt": false
   },
   "source": [
    "this is what the matrix looks like"
   ]
  },
  {
   "cell_type": "code",
   "execution_count": 3,
   "metadata": {
    "hideCode": false,
    "hidePrompt": false
   },
   "outputs": [
    {
     "data": {
      "text/plain": [
       "matrix([[ 4,  3, 10, 10],\n",
       "        [ 3,  6,  4,  8],\n",
       "        [10,  4, 12,  2],\n",
       "        [10,  8,  2,  6]])"
      ]
     },
     "execution_count": 3,
     "metadata": {},
     "output_type": "execute_result"
    }
   ],
   "source": [
    "a"
   ]
  },
  {
   "cell_type": "markdown",
   "metadata": {
    "hideCode": false,
    "hidePrompt": false
   },
   "source": [
    "The diagonalization of the matrix"
   ]
  },
  {
   "cell_type": "code",
   "execution_count": 4,
   "metadata": {
    "hideCode": false,
    "hidePrompt": false
   },
   "outputs": [],
   "source": [
    "e, w = np.linalg.eig(a)\n"
   ]
  },
  {
   "cell_type": "code",
   "execution_count": 5,
   "metadata": {
    "hideCode": false,
    "hidePrompt": false
   },
   "outputs": [
    {
     "data": {
      "text/plain": [
       "array([25.85878979, -8.27630761,  1.56435331,  8.85316451])"
      ]
     },
     "execution_count": 5,
     "metadata": {},
     "output_type": "execute_result"
    }
   ],
   "source": [
    "e"
   ]
  },
  {
   "cell_type": "code",
   "execution_count": 6,
   "metadata": {
    "hideCode": false,
    "hidePrompt": false
   },
   "outputs": [
    {
     "data": {
      "text/plain": [
       "array([-8.27630761,  1.56435331,  8.85316451, 25.85878979])"
      ]
     },
     "execution_count": 6,
     "metadata": {},
     "output_type": "execute_result"
    }
   ],
   "source": [
    "np.sort(e)"
   ]
  },
  {
   "cell_type": "code",
   "execution_count": 7,
   "metadata": {
    "hideCode": false,
    "hidePrompt": false
   },
   "outputs": [
    {
     "data": {
      "text/plain": [
       "matrix([[ 4,  3, 10, 10],\n",
       "        [ 3,  6,  4,  8],\n",
       "        [10,  4, 12,  2],\n",
       "        [10,  8,  2,  6]])"
      ]
     },
     "execution_count": 7,
     "metadata": {},
     "output_type": "execute_result"
    }
   ],
   "source": [
    "a"
   ]
  },
  {
   "cell_type": "code",
   "execution_count": 8,
   "metadata": {
    "hideCode": false,
    "hidePrompt": false
   },
   "outputs": [
    {
     "data": {
      "text/plain": [
       "matrix([[ 0.5361151 ,  0.68213298, -0.49285206, -0.06612146],\n",
       "        [ 0.3910662 ,  0.27942614,  0.75150529,  0.45191599],\n",
       "        [ 0.56968669, -0.33357743,  0.25289347, -0.70726803],\n",
       "        [ 0.48487617, -0.58765783, -0.3583037 ,  0.5396034 ]])"
      ]
     },
     "execution_count": 8,
     "metadata": {},
     "output_type": "execute_result"
    }
   ],
   "source": [
    "w"
   ]
  },
  {
   "cell_type": "code",
   "execution_count": 9,
   "metadata": {
    "hideCode": false,
    "hidePrompt": false
   },
   "outputs": [
    {
     "data": {
      "text/plain": [
       "matrix([[25.85878979],\n",
       "        [25.85878979],\n",
       "        [25.85878979],\n",
       "        [25.85878979]])"
      ]
     },
     "execution_count": 9,
     "metadata": {},
     "output_type": "execute_result"
    }
   ],
   "source": [
    "a*w[:,0]/w[:,0]"
   ]
  },
  {
   "cell_type": "markdown",
   "metadata": {
    "hideCode": false,
    "hidePrompt": false
   },
   "source": [
    "Here we introduce two vectors $\\phi_1$ and $\\phi_2$. The second \n",
    "is orthonormalized "
   ]
  },
  {
   "cell_type": "code",
   "execution_count": 10,
   "metadata": {
    "hideCode": false,
    "hidePrompt": false
   },
   "outputs": [
    {
     "name": "stdout",
     "output_type": "stream",
     "text": [
      "[[1]]\n"
     ]
    }
   ],
   "source": [
    "phi1 = np.matrix([1,0,0,0])\n",
    "print (phi1.dot(phi1.T))\n",
    "e1 = phi1*a*phi1.T\n",
    "e1 = e1[0,0]"
   ]
  },
  {
   "cell_type": "code",
   "execution_count": 11,
   "metadata": {
    "hideCode": false,
    "hidePrompt": false
   },
   "outputs": [],
   "source": [
    "psi2 = np.matrix([2,3,0,0])\n",
    "n=psi2.dot(psi2.T)[0,0]\n",
    "p=psi2.dot(phi1.T)[0,0]"
   ]
  },
  {
   "cell_type": "code",
   "execution_count": 12,
   "metadata": {
    "hideCode": false,
    "hidePrompt": false
   },
   "outputs": [],
   "source": [
    "phi2 = (psi2 - phi1*p)/ np.sqrt(n - p**2)"
   ]
  },
  {
   "cell_type": "code",
   "execution_count": 13,
   "metadata": {
    "hideCode": false,
    "hidePrompt": false
   },
   "outputs": [
    {
     "data": {
      "text/plain": [
       "matrix([[0., 1., 0., 0.]])"
      ]
     },
     "execution_count": 13,
     "metadata": {},
     "output_type": "execute_result"
    }
   ],
   "source": [
    "phi2"
   ]
  },
  {
   "cell_type": "code",
   "execution_count": 14,
   "metadata": {
    "hideCode": false,
    "hidePrompt": false
   },
   "outputs": [],
   "source": [
    "h1 = phi1*a*phi2.T\n",
    "h1 = h1[0,0]"
   ]
  },
  {
   "cell_type": "code",
   "execution_count": 15,
   "metadata": {
    "hideCode": false,
    "hidePrompt": false
   },
   "outputs": [
    {
     "data": {
      "text/plain": [
       "3.0"
      ]
     },
     "execution_count": 15,
     "metadata": {},
     "output_type": "execute_result"
    }
   ],
   "source": [
    "h1"
   ]
  },
  {
   "cell_type": "code",
   "execution_count": 16,
   "metadata": {
    "hideCode": false,
    "hidePrompt": false
   },
   "outputs": [],
   "source": [
    "h2 = phi2*a*phi2.T\n",
    "h2 = h2[0,0,]"
   ]
  },
  {
   "cell_type": "code",
   "execution_count": 17,
   "metadata": {
    "hideCode": false,
    "hidePrompt": false
   },
   "outputs": [
    {
     "data": {
      "text/plain": [
       "6.0"
      ]
     },
     "execution_count": 17,
     "metadata": {},
     "output_type": "execute_result"
    }
   ],
   "source": [
    "h2\n"
   ]
  },
  {
   "cell_type": "markdown",
   "metadata": {
    "hideCode": false,
    "hidePrompt": false
   },
   "source": [
    " "
   ]
  },
  {
   "cell_type": "markdown",
   "metadata": {
    "hideCode": false,
    "hidePrompt": false
   },
   "source": [
    "An we use the new vectors to sample the original matrix"
   ]
  },
  {
   "cell_type": "code",
   "execution_count": 18,
   "metadata": {
    "hideCode": false,
    "hidePrompt": false
   },
   "outputs": [],
   "source": [
    "hr = np.matrix([[e1,h1],[h1,h2]])"
   ]
  },
  {
   "cell_type": "markdown",
   "metadata": {
    "hideCode": false,
    "hidePrompt": false
   },
   "source": [
    "So the matrix is now 2x2"
   ]
  },
  {
   "cell_type": "code",
   "execution_count": 19,
   "metadata": {
    "hideCode": false,
    "hidePrompt": false
   },
   "outputs": [
    {
     "data": {
      "text/plain": [
       "matrix([[4., 3.],\n",
       "        [3., 6.]])"
      ]
     },
     "execution_count": 19,
     "metadata": {},
     "output_type": "execute_result"
    }
   ],
   "source": [
    "hr"
   ]
  },
  {
   "cell_type": "markdown",
   "metadata": {
    "hideCode": false,
    "hidePrompt": false
   },
   "source": [
    "And we can diagonalize it"
   ]
  },
  {
   "cell_type": "code",
   "execution_count": 20,
   "metadata": {
    "hideCode": false,
    "hidePrompt": false
   },
   "outputs": [
    {
     "data": {
      "text/plain": [
       "(array([1.83772234, 8.16227766]), matrix([[-0.81124219, -0.58471028],\n",
       "         [ 0.58471028, -0.81124219]]))"
      ]
     },
     "execution_count": 20,
     "metadata": {},
     "output_type": "execute_result"
    }
   ],
   "source": [
    "np.linalg.eig(hr)"
   ]
  },
  {
   "cell_type": "code",
   "execution_count": 21,
   "metadata": {
    "hideCode": false,
    "hidePrompt": false
   },
   "outputs": [],
   "source": [
    "e2 = 1.83772234"
   ]
  },
  {
   "cell_type": "code",
   "execution_count": 22,
   "metadata": {
    "hideCode": false,
    "hidePrompt": false
   },
   "outputs": [
    {
     "data": {
      "text/plain": [
       "4"
      ]
     },
     "execution_count": 22,
     "metadata": {},
     "output_type": "execute_result"
    }
   ],
   "source": [
    "e1"
   ]
  },
  {
   "cell_type": "markdown",
   "metadata": {
    "hideCode": false,
    "hidePrompt": false
   },
   "source": [
    "Below I add a new vector and try to find the original eigenvalues but I was mistaken ... I thought one could work with \n",
    "only the ground state and but it's not true.... \n",
    "Every time one find the best candidate to enlarge the basis, one should recalculate all the eigenvalues ... "
   ]
  },
  {
   "cell_type": "code",
   "execution_count": 23,
   "metadata": {
    "hideCode": false,
    "hidePrompt": false
   },
   "outputs": [],
   "source": [
    "phi3 = np.matrix([[ 0.,  0,  1.,  0.]])"
   ]
  },
  {
   "cell_type": "code",
   "execution_count": 24,
   "metadata": {
    "hideCode": false,
    "hidePrompt": false
   },
   "outputs": [],
   "source": [
    "h1 = phi1*a*phi3.T\n",
    "h1 = h1[0,0]"
   ]
  },
  {
   "cell_type": "code",
   "execution_count": 25,
   "metadata": {
    "hideCode": false,
    "hidePrompt": false
   },
   "outputs": [],
   "source": [
    "h2 = phi2*a*phi3.T\n",
    "h2 = h2[0,0]"
   ]
  },
  {
   "cell_type": "code",
   "execution_count": 26,
   "metadata": {
    "hideCode": false,
    "hidePrompt": false
   },
   "outputs": [],
   "source": [
    "h3 = phi3*a*phi3.T\n",
    "h3 = h3[0,0]"
   ]
  },
  {
   "cell_type": "code",
   "execution_count": 27,
   "metadata": {
    "hideCode": false,
    "hidePrompt": false
   },
   "outputs": [],
   "source": [
    "hr = np.matrix([[e1,0,h1],[0,e2,h2], [h1,h2,h3]])"
   ]
  },
  {
   "cell_type": "code",
   "execution_count": 28,
   "metadata": {
    "hideCode": false,
    "hidePrompt": false
   },
   "outputs": [
    {
     "data": {
      "text/plain": [
       "(array([19.40308805, -3.75524172,  2.18987601]),\n",
       " matrix([[-0.53486   , -0.72375154,  0.43601433],\n",
       "         [-0.18760772, -0.40142351, -0.89647226],\n",
       "         [-0.82384957,  0.56128681, -0.078924  ]]))"
      ]
     },
     "execution_count": 28,
     "metadata": {},
     "output_type": "execute_result"
    }
   ],
   "source": [
    "np.linalg.eig(hr)"
   ]
  },
  {
   "cell_type": "code",
   "execution_count": 29,
   "metadata": {
    "hideCode": false,
    "hidePrompt": false
   },
   "outputs": [],
   "source": [
    "e3 = -3.75524172"
   ]
  },
  {
   "cell_type": "code",
   "execution_count": 30,
   "metadata": {
    "hideCode": false,
    "hidePrompt": false
   },
   "outputs": [],
   "source": [
    "phi4 = np.matrix([[ 0.,  0,  0,  1]])\n",
    "h1 = phi1*a*phi4.T\n",
    "h1 = h1[0,0]\n",
    "h2 = phi2*a*phi4.T\n",
    "h2 = h2[0,0]\n",
    "h3 = phi3*a*phi4.T\n",
    "h3 = h3[0,0]\n",
    "h4 = phi4*a*phi4.T\n",
    "h4 = h4[0,0]"
   ]
  },
  {
   "cell_type": "code",
   "execution_count": 31,
   "metadata": {
    "hideCode": false,
    "hidePrompt": false
   },
   "outputs": [
    {
     "data": {
      "text/plain": [
       "matrix([[ 4.        ,  0.        ,  0.        , 10.        ],\n",
       "        [ 0.        ,  1.83772234,  0.        ,  8.        ],\n",
       "        [ 0.        ,  0.        , -3.75524172,  2.        ],\n",
       "        [10.        ,  8.        ,  2.        ,  6.        ]])"
      ]
     },
     "execution_count": 31,
     "metadata": {},
     "output_type": "execute_result"
    }
   ],
   "source": [
    "hr = np.matrix([[e1,0,0,h1],[0,e2,0,h2], [0,0,e3,h3],[h1,h2,h3,h4]])\n",
    "hr"
   ]
  },
  {
   "cell_type": "code",
   "execution_count": 32,
   "metadata": {
    "hideCode": false,
    "hidePrompt": false
   },
   "outputs": [
    {
     "data": {
      "text/plain": [
       "(array([17.6003186 ,  2.70835228, -8.72391996, -3.50227031]),\n",
       " matrix([[-0.54698198, -0.64190672,  0.51230388, -0.1622073 ],\n",
       "         [-0.37755857,  0.76185512,  0.49375   , -0.18231081],\n",
       "         [-0.06966925,  0.02565499,  0.26238421,  0.96210319],\n",
       "         [-0.74391292,  0.08291174, -0.65185136,  0.1216923 ]]))"
      ]
     },
     "execution_count": 32,
     "metadata": {},
     "output_type": "execute_result"
    }
   ],
   "source": [
    "np.linalg.eig(hr)"
   ]
  },
  {
   "cell_type": "code",
   "execution_count": 33,
   "metadata": {
    "hideCode": false,
    "hidePrompt": false
   },
   "outputs": [],
   "source": [
    "e4 =  -8.72391996"
   ]
  },
  {
   "cell_type": "markdown",
   "metadata": {
    "hideCode": false,
    "hidePrompt": false
   },
   "source": [
    "## This is the way it works for the calculation of the new eigenvalues for a quasi-diagonal matrix  "
   ]
  },
  {
   "cell_type": "markdown",
   "metadata": {
    "hideCode": false,
    "hidePrompt": false
   },
   "source": [
    "Basis definition"
   ]
  },
  {
   "cell_type": "code",
   "execution_count": 34,
   "metadata": {
    "hideCode": false,
    "hidePrompt": false
   },
   "outputs": [
    {
     "data": {
      "text/plain": [
       "matrix([[1, 0, 0, 0]])"
      ]
     },
     "execution_count": 34,
     "metadata": {},
     "output_type": "execute_result"
    }
   ],
   "source": [
    "phi1"
   ]
  },
  {
   "cell_type": "code",
   "execution_count": 35,
   "metadata": {
    "hideCode": false,
    "hidePrompt": false
   },
   "outputs": [
    {
     "data": {
      "text/plain": [
       "matrix([[0., 1., 0., 0.]])"
      ]
     },
     "execution_count": 35,
     "metadata": {},
     "output_type": "execute_result"
    }
   ],
   "source": [
    "phi2"
   ]
  },
  {
   "cell_type": "code",
   "execution_count": 36,
   "metadata": {
    "hideCode": false,
    "hidePrompt": false
   },
   "outputs": [
    {
     "data": {
      "text/plain": [
       "matrix([[0., 0., 1., 0.]])"
      ]
     },
     "execution_count": 36,
     "metadata": {},
     "output_type": "execute_result"
    }
   ],
   "source": [
    "phi3"
   ]
  },
  {
   "cell_type": "code",
   "execution_count": 37,
   "metadata": {
    "hideCode": false,
    "hidePrompt": false
   },
   "outputs": [
    {
     "data": {
      "text/plain": [
       "matrix([[0., 0., 0., 1.]])"
      ]
     },
     "execution_count": 37,
     "metadata": {},
     "output_type": "execute_result"
    }
   ],
   "source": [
    "phi4"
   ]
  },
  {
   "cell_type": "code",
   "execution_count": 38,
   "metadata": {
    "hideCode": false,
    "hidePrompt": false
   },
   "outputs": [],
   "source": [
    "import scipy.optimize as opt"
   ]
  },
  {
   "cell_type": "markdown",
   "metadata": {
    "hideCode": false,
    "hidePrompt": false
   },
   "source": [
    "Quasi diagonal matrix"
   ]
  },
  {
   "cell_type": "code",
   "execution_count": 39,
   "metadata": {
    "hideCode": false,
    "hidePrompt": false
   },
   "outputs": [],
   "source": [
    "h = np.matrix([[-2,0,0,0,4],[0,-1,0,0,2],[0,0,-3,0,5],[0,0,0,-6,3],[4,2,5,3,4]])"
   ]
  },
  {
   "cell_type": "code",
   "execution_count": 40,
   "metadata": {
    "hideCode": false,
    "hidePrompt": false
   },
   "outputs": [
    {
     "data": {
      "text/plain": [
       "matrix([[-2,  0,  0,  0,  4],\n",
       "        [ 0, -1,  0,  0,  2],\n",
       "        [ 0,  0, -3,  0,  5],\n",
       "        [ 0,  0,  0, -6,  3],\n",
       "        [ 4,  2,  5,  3,  4]])"
      ]
     },
     "execution_count": 40,
     "metadata": {},
     "output_type": "execute_result"
    }
   ],
   "source": [
    "h"
   ]
  },
  {
   "cell_type": "code",
   "execution_count": 41,
   "metadata": {
    "hideCode": false,
    "hidePrompt": false
   },
   "outputs": [],
   "source": [
    "e,v = np.linalg.eig(h)"
   ]
  },
  {
   "cell_type": "code",
   "execution_count": 42,
   "metadata": {
    "hideCode": false,
    "hidePrompt": false
   },
   "outputs": [
    {
     "data": {
      "text/plain": [
       "matrix([[-6, -3, -2, -1,  4]])"
      ]
     },
     "execution_count": 42,
     "metadata": {},
     "output_type": "execute_result"
    }
   ],
   "source": [
    "np.sort(h.diagonal())"
   ]
  },
  {
   "cell_type": "markdown",
   "metadata": {
    "hideCode": false,
    "hidePrompt": false
   },
   "source": [
    "Eigenvalues of the matrix calculated in the usual way"
   ]
  },
  {
   "cell_type": "code",
   "execution_count": 43,
   "metadata": {
    "hideCode": false,
    "hidePrompt": false
   },
   "outputs": [
    {
     "data": {
      "text/plain": [
       "array([-8.16176143, -5.04495992, -2.35730491, -1.10520983,  8.6692361 ])"
      ]
     },
     "execution_count": 43,
     "metadata": {},
     "output_type": "execute_result"
    }
   ],
   "source": [
    "np.sort(e)"
   ]
  },
  {
   "cell_type": "markdown",
   "metadata": {
    "hideCode": false,
    "hidePrompt": false
   },
   "source": [
    "This is the function for which we have to find the zeros in order to calculate the new eigenvalues.\n",
    "It uses the old diagonal elements of the matrix (previous step)"
   ]
  },
  {
   "cell_type": "code",
   "execution_count": 44,
   "metadata": {
    "hideCode": false,
    "hidePrompt": false
   },
   "outputs": [],
   "source": [
    "def funzioneE (x) :\n",
    "    e = h.diagonal()\n",
    "    hi = h[0:-1,-1]\n",
    "    f=0\n",
    "    d1, d2 = h.shape\n",
    "    for i in range(d1-1) : \n",
    "        f += h[i,-1]**2/(x-h[i,i])\n",
    "    f -= x-h[-1,-1]\n",
    "    return f\n",
    "        "
   ]
  },
  {
   "cell_type": "code",
   "execution_count": 45,
   "metadata": {
    "hideCode": false,
    "hidePrompt": false
   },
   "outputs": [
    {
     "data": {
      "text/plain": [
       "13.458333333333332"
      ]
     },
     "execution_count": 45,
     "metadata": {},
     "output_type": "execute_result"
    }
   ],
   "source": [
    "funzioneE(2)"
   ]
  },
  {
   "cell_type": "code",
   "execution_count": 46,
   "metadata": {
    "hideCode": false,
    "hidePrompt": false
   },
   "outputs": [
    {
     "data": {
      "image/png": "[encoded data removed]",
      "text/plain": [
       "<matplotlib.figure.Figure at 0x7f8eda484ba8>"
      ]
     },
     "metadata": {
      "needs_background": "light"
     },
     "output_type": "display_data"
    }
   ],
   "source": [
    "x = np.linspace(-9,1,100)\n",
    "fig = plt.plot(x,funzioneE(x))\n",
    "plt.ylim(-100,100)\n",
    "plt.grid()"
   ]
  },
  {
   "cell_type": "markdown",
   "metadata": {
    "hideCode": false,
    "hidePrompt": false
   },
   "source": [
    "The expected values are "
   ]
  },
  {
   "cell_type": "code",
   "execution_count": 47,
   "metadata": {
    "hideCode": false,
    "hidePrompt": false
   },
   "outputs": [
    {
     "data": {
      "text/plain": [
       "array([-8.16176143, -5.04495992, -2.35730491, -1.10520983,  8.6692361 ])"
      ]
     },
     "execution_count": 47,
     "metadata": {},
     "output_type": "execute_result"
    }
   ],
   "source": [
    "np.sort(e)"
   ]
  },
  {
   "cell_type": "markdown",
   "metadata": {
    "hideCode": false,
    "hidePrompt": false
   },
   "source": [
    "And the calculated with thew new methods are the same! "
   ]
  },
  {
   "cell_type": "code",
   "execution_count": 48,
   "metadata": {
    "hideCode": false,
    "hidePrompt": false
   },
   "outputs": [
    {
     "name": "stdout",
     "output_type": "stream",
     "text": [
      "[-1.10520983]\n"
     ]
    }
   ],
   "source": [
    "sol = opt.root(funzioneE,-1.1)\n",
    "print(sol.x)"
   ]
  },
  {
   "cell_type": "code",
   "execution_count": 49,
   "metadata": {
    "hideCode": false,
    "hidePrompt": false
   },
   "outputs": [
    {
     "name": "stdout",
     "output_type": "stream",
     "text": [
      "[-5.04495992]\n"
     ]
    }
   ],
   "source": [
    "sol = opt.root(funzioneE,-5)\n",
    "print(sol.x)"
   ]
  },
  {
   "cell_type": "code",
   "execution_count": 50,
   "metadata": {
    "hideCode": false,
    "hidePrompt": false
   },
   "outputs": [
    {
     "name": "stdout",
     "output_type": "stream",
     "text": [
      "[-8.16176143]\n"
     ]
    }
   ],
   "source": [
    "sol = opt.root(funzioneE,-8)\n",
    "print(sol.x)"
   ]
  },
  {
   "cell_type": "code",
   "execution_count": 51,
   "metadata": {
    "hideCode": false,
    "hidePrompt": false
   },
   "outputs": [
    {
     "name": "stdout",
     "output_type": "stream",
     "text": [
      "[-2.35730491]\n"
     ]
    }
   ],
   "source": [
    "sol = opt.root(funzioneE,-2.1)\n",
    "print(sol.x)"
   ]
  },
  {
   "cell_type": "code",
   "execution_count": 52,
   "metadata": {
    "hideCode": false,
    "hidePrompt": false
   },
   "outputs": [
    {
     "name": "stdout",
     "output_type": "stream",
     "text": [
      "[8.6692361]\n"
     ]
    }
   ],
   "source": [
    "sol = opt.root(funzioneE,8)\n",
    "print(sol.x)"
   ]
  },
  {
   "cell_type": "markdown",
   "metadata": {
    "hideCode": false,
    "hidePrompt": false
   },
   "source": [
    "# How to construct the eigenvectors  - Closer to the real calculation"
   ]
  },
  {
   "cell_type": "markdown",
   "metadata": {
    "hideCode": false,
    "hidePrompt": false
   },
   "source": [
    "## This is the original matrix (hamiltonian)"
   ]
  },
  {
   "cell_type": "code",
   "execution_count": 53,
   "metadata": {
    "hideCode": false,
    "hidePrompt": false
   },
   "outputs": [
    {
     "data": {
      "text/plain": [
       "matrix([[ 4,  3, 10, 10],\n",
       "        [ 3,  6,  4,  8],\n",
       "        [10,  4, 12,  2],\n",
       "        [10,  8,  2,  6]])"
      ]
     },
     "execution_count": 53,
     "metadata": {},
     "output_type": "execute_result"
    }
   ],
   "source": [
    "a"
   ]
  },
  {
   "cell_type": "code",
   "execution_count": 54,
   "metadata": {
    "hideCode": false,
    "hidePrompt": false
   },
   "outputs": [],
   "source": [
    "e, u = np.linalg.eig(a)"
   ]
  },
  {
   "cell_type": "code",
   "execution_count": 55,
   "metadata": {
    "hideCode": false,
    "hidePrompt": false
   },
   "outputs": [
    {
     "data": {
      "text/plain": [
       "array([25.85878979, -8.27630761,  1.56435331,  8.85316451])"
      ]
     },
     "execution_count": 55,
     "metadata": {},
     "output_type": "execute_result"
    }
   ],
   "source": [
    "e"
   ]
  },
  {
   "cell_type": "code",
   "execution_count": 56,
   "metadata": {
    "hideCode": false,
    "hidePrompt": false
   },
   "outputs": [
    {
     "data": {
      "text/plain": [
       "matrix([[ 0.5361151 ,  0.68213298, -0.49285206, -0.06612146],\n",
       "        [ 0.3910662 ,  0.27942614,  0.75150529,  0.45191599],\n",
       "        [ 0.56968669, -0.33357743,  0.25289347, -0.70726803],\n",
       "        [ 0.48487617, -0.58765783, -0.3583037 ,  0.5396034 ]])"
      ]
     },
     "execution_count": 56,
     "metadata": {},
     "output_type": "execute_result"
    }
   ],
   "source": [
    "u "
   ]
  },
  {
   "cell_type": "markdown",
   "metadata": {
    "hideCode": false,
    "hidePrompt": false
   },
   "source": [
    "## Let us consider that we solved the $3\\times 3$ problem"
   ]
  },
  {
   "cell_type": "code",
   "execution_count": 57,
   "metadata": {
    "hideCode": false,
    "hidePrompt": false
   },
   "outputs": [],
   "source": [
    "a3 = a[0:3,0:3]"
   ]
  },
  {
   "cell_type": "code",
   "execution_count": 58,
   "metadata": {
    "hideCode": false,
    "hidePrompt": false
   },
   "outputs": [],
   "source": [
    "e3, u3 = np.linalg.eig(a3)"
   ]
  },
  {
   "cell_type": "code",
   "execution_count": 59,
   "metadata": {
    "hideCode": false,
    "hidePrompt": false
   },
   "outputs": [
    {
     "data": {
      "text/plain": [
       "matrix([[ 0.53282777,  0.83174746,  0.1558548 ],\n",
       "        [ 0.32586497, -0.03169841, -0.94488477],\n",
       "        [ 0.78096516, -0.55424847,  0.28792716]])"
      ]
     },
     "execution_count": 59,
     "metadata": {},
     "output_type": "execute_result"
    }
   ],
   "source": [
    "u3"
   ]
  },
  {
   "cell_type": "code",
   "execution_count": 60,
   "metadata": {
    "hideCode": false,
    "hidePrompt": false
   },
   "outputs": [
    {
     "data": {
      "text/plain": [
       "array([20.49172017, -2.77799475,  4.28627458])"
      ]
     },
     "execution_count": 60,
     "metadata": {},
     "output_type": "execute_result"
    }
   ],
   "source": [
    "e3"
   ]
  },
  {
   "cell_type": "markdown",
   "metadata": {
    "hideCode": false,
    "hidePrompt": false
   },
   "source": [
    "## Creation of the matrix quasi-diagonal $4\\times 4$"
   ]
  },
  {
   "cell_type": "code",
   "execution_count": 61,
   "metadata": {
    "hideCode": false,
    "hidePrompt": false
   },
   "outputs": [
    {
     "name": "stdout",
     "output_type": "stream",
     "text": [
      "[0.56033863 0.12450493 0.0615972  0.45912034]\n"
     ]
    }
   ],
   "source": [
    "phi4 = np.array(np.random.rand(4))\n",
    "print(phi4)"
   ]
  },
  {
   "cell_type": "code",
   "execution_count": 62,
   "metadata": {
    "hideCode": false,
    "hidePrompt": false
   },
   "outputs": [
    {
     "name": "stdout",
     "output_type": "stream",
     "text": [
      "[ 0.38724105  0.42797347 -0.01257584  0.54406656]\n",
      "[ 4.75129199e-16 -2.94712346e-16  1.66247990e-16  1.00000000e+00]\n"
     ]
    }
   ],
   "source": [
    "n = np.array([0.,0.,0.,0.])\n",
    "phi1 = np.array(u3[:,0]).flatten()\n",
    "phi1 = np.append(phi1,0)\n",
    "n[0] = phi1.dot(phi4)\n",
    "\n",
    "phi2 = np.array(u3[:,1]).flatten()\n",
    "phi2 = np.append(phi2,0)\n",
    "n[1] = phi2.dot(phi4)\n",
    "\n",
    "phi3 = np.array(u3[:,2]).flatten()\n",
    "phi3 = np.append(phi3,0)\n",
    "n[2] = phi3.dot(phi4)\n",
    "\n",
    "n[3] = phi4.dot(phi4)\n",
    "\n",
    "phi4 -= phi1 * n[0]\n",
    "phi4 -= phi2 * n[1]\n",
    "phi4 -= phi3 * n[2]\n",
    "\n",
    "phi4 /= np.sqrt(n[3]-n[0]**2 -n[1]**2 -n[2]**2)\n",
    "\n",
    "print(n)\n",
    "print(phi4)\n",
    "\n"
   ]
  },
  {
   "cell_type": "code",
   "execution_count": 63,
   "metadata": {
    "hideCode": false,
    "hidePrompt": false
   },
   "outputs": [],
   "source": [
    "hi = np.array([0.,0.,0.,0.])\n",
    "p= phi1*a*phi4.reshape(4,1)\n",
    "hi[0] = p[0,0]\n",
    "p= phi2*a*phi4.reshape(4,1)\n",
    "hi[1] = p[0,0]\n",
    "p= phi3*a*phi4.reshape(4,1)\n",
    "hi[2] = p[0,0]\n",
    "p= phi4*a*phi4.reshape(4,1)\n",
    "hi[3] = p[0,0]\n"
   ]
  },
  {
   "cell_type": "markdown",
   "metadata": {
    "hideCode": false,
    "hidePrompt": false
   },
   "source": [
    "### This is the quasi-hamiltonian "
   ]
  },
  {
   "cell_type": "code",
   "execution_count": 64,
   "metadata": {
    "hideCode": false,
    "hidePrompt": false
   },
   "outputs": [
    {
     "name": "stdout",
     "output_type": "stream",
     "text": [
      "[[20.49172017  0.          0.          9.49712783]\n",
      " [ 0.         -2.77799475  0.          6.95539039]\n",
      " [ 0.          0.          4.28627458 -5.42467581]\n",
      " [ 9.49712783  6.95539039 -5.42467581  6.        ]]\n"
     ]
    }
   ],
   "source": [
    "h=np.array(np.zeros(shape=(4,4)))\n",
    "for i in range(3) :\n",
    "    h[i,i]= e3[i]\n",
    "    h[3,i]= hi[i]\n",
    "    h[i,3] = hi[i]\n",
    "h[3,3] = hi[3]\n",
    "print(h)"
   ]
  },
  {
   "cell_type": "markdown",
   "metadata": {
    "hideCode": false,
    "hidePrompt": false
   },
   "source": [
    "### The diagonalization using the simple root-finding"
   ]
  },
  {
   "cell_type": "code",
   "execution_count": 65,
   "metadata": {
    "hideCode": false,
    "hidePrompt": false
   },
   "outputs": [],
   "source": [
    "def fe(x) :\n",
    "    f = x - hi[3]\n",
    "    for i in range(3) :\n",
    "        f -= hi[i]**2/(x-e3[i])\n",
    "    return f"
   ]
  },
  {
   "cell_type": "code",
   "execution_count": 66,
   "metadata": {
    "hideCode": false,
    "hidePrompt": false
   },
   "outputs": [],
   "source": [
    "enew = []\n",
    "for i in range(3) :\n",
    "    sol = opt.root(fe,e3[i]-0.1)\n",
    "    enew = np.append(enew,sol.x)"
   ]
  },
  {
   "cell_type": "markdown",
   "metadata": {
    "hideCode": false,
    "hidePrompt": false
   },
   "source": [
    "### calculation and comparison with the previous-step eigenvalues "
   ]
  },
  {
   "cell_type": "code",
   "execution_count": 67,
   "metadata": {
    "hideCode": false,
    "hidePrompt": false
   },
   "outputs": [
    {
     "name": "stdout",
     "output_type": "stream",
     "text": [
      "[ 8.85316451 -8.27630761  1.56435331 25.85878979]\n",
      "[20.49172017 -2.77799475  4.28627458]\n"
     ]
    }
   ],
   "source": [
    "sol = opt.root(fe,26)\n",
    "enew = np.append(enew,sol.x)\n",
    "\n",
    "print(enew)\n",
    "print(e3)"
   ]
  },
  {
   "cell_type": "markdown",
   "metadata": {
    "hideCode": false,
    "hidePrompt": false
   },
   "source": [
    "These are the original eigenvalues: it works !"
   ]
  },
  {
   "cell_type": "code",
   "execution_count": 68,
   "metadata": {
    "hideCode": false,
    "hidePrompt": false
   },
   "outputs": [
    {
     "data": {
      "text/plain": [
       "array([25.85878979, -8.27630761,  1.56435331,  8.85316451])"
      ]
     },
     "execution_count": 68,
     "metadata": {},
     "output_type": "execute_result"
    }
   ],
   "source": [
    "e"
   ]
  },
  {
   "cell_type": "markdown",
   "metadata": {
    "hideCode": false,
    "hidePrompt": false
   },
   "source": [
    "Calculation of the eigenvectors. They are not normalized "
   ]
  },
  {
   "cell_type": "code",
   "execution_count": 69,
   "metadata": {
    "hideCode": false,
    "hidePrompt": false
   },
   "outputs": [
    {
     "name": "stdout",
     "output_type": "stream",
     "text": [
      "[[0. 0. 0. 1.]\n",
      " [0. 0. 0. 1.]\n",
      " [0. 0. 0. 1.]\n",
      " [0. 0. 0. 1.]]\n"
     ]
    }
   ],
   "source": [
    "cij = np.array(np.zeros(shape=(4,4)))\n",
    "for i in range(4) :\n",
    "    for j in range(3) :\n",
    "        cij[i,3] += hi[j]**2 / (enew[i] - e3[j])\n",
    "    cij[i,3] /= enew[i]-hi[3]\n",
    "\n",
    "print(cij) "
   ]
  },
  {
   "cell_type": "code",
   "execution_count": 70,
   "metadata": {
    "hideCode": false,
    "hidePrompt": false
   },
   "outputs": [
    {
     "name": "stdout",
     "output_type": "stream",
     "text": [
      "[[-0.81600571  0.59799632 -1.18782714  1.        ]\n",
      " [-0.33012787 -1.26500448  0.43181216  1.        ]\n",
      " [-0.50176699  1.60175792  1.99295838  1.        ]\n",
      " [ 1.76951828  0.24288308 -0.25146237  1.        ]]\n"
     ]
    }
   ],
   "source": [
    "for i in range(4) :\n",
    "    for j in range(3) :\n",
    "        cij[i,j] = hi[j]/(enew[i]-e3[j]) * cij[i,3]\n",
    "print(cij)"
   ]
  },
  {
   "cell_type": "code",
   "execution_count": 71,
   "metadata": {
    "hideCode": false,
    "hidePrompt": false
   },
   "outputs": [
    {
     "data": {
      "text/plain": [
       "array([25.85878979, 25.85878979, 25.85878979, 25.85878979])"
      ]
     },
     "execution_count": 71,
     "metadata": {},
     "output_type": "execute_result"
    }
   ],
   "source": [
    "np.dot(h,cij[3])/cij[3]"
   ]
  },
  {
   "cell_type": "markdown",
   "metadata": {
    "hideCode": false,
    "hidePrompt": false
   },
   "source": [
    "This is just to check that it really works"
   ]
  },
  {
   "cell_type": "code",
   "execution_count": 72,
   "metadata": {
    "hideCode": false,
    "hidePrompt": false
   },
   "outputs": [],
   "source": [
    "e4,w4 = np.linalg.eig(h)"
   ]
  },
  {
   "cell_type": "code",
   "execution_count": 73,
   "metadata": {
    "hideCode": false,
    "hidePrompt": false
   },
   "outputs": [
    {
     "name": "stdout",
     "output_type": "stream",
     "text": [
      "[[ 0.85799725  0.19400223  0.44031945  0.17978497]\n",
      " [ 0.11776822  0.74338979 -0.32268084 -0.57391579]\n",
      " [-0.12192811 -0.2537578   0.64095556 -0.71408437]\n",
      " [ 0.48487617 -0.58765783 -0.5396034  -0.3583037 ]]\n",
      "[25.85878979 -8.27630761  8.85316451  1.56435331]\n"
     ]
    },
    {
     "data": {
      "text/plain": [
       "array([25.85878979, 25.85878979, 25.85878979, 25.85878979])"
      ]
     },
     "execution_count": 73,
     "metadata": {},
     "output_type": "execute_result"
    }
   ],
   "source": [
    "print(w4)\n",
    "print(e4)\n",
    "np.dot(h,w4[:,0])/w4[:,0]"
   ]
  },
  {
   "cell_type": "code",
   "execution_count": 74,
   "metadata": {
    "hideCode": false,
    "hidePrompt": false
   },
   "outputs": [
    {
     "name": "stdout",
     "output_type": "stream",
     "text": [
      "[1. 1. 1. 1.]\n",
      "[ 0.85799725  0.11776822 -0.12192811  0.48487617]\n"
     ]
    }
   ],
   "source": [
    "print(w4[:,0] / cij[3] * np.linalg.norm(cij[3]))\n",
    "print(cij[3]/np.linalg.norm(cij[3]))"
   ]
  },
  {
   "cell_type": "code",
   "execution_count": 75,
   "metadata": {
    "hideCode": false,
    "hidePrompt": false
   },
   "outputs": [
    {
     "name": "stdout",
     "output_type": "stream",
     "text": [
      "[[ 0.85799725  0.11776822 -0.12192811  0.48487617]\n",
      " [ 0.19400223  0.74338979 -0.2537578  -0.58765783]\n",
      " [ 0.44031945 -0.32268084  0.64095556 -0.5396034 ]\n",
      " [ 0.17978497 -0.57391579 -0.71408437 -0.3583037 ]]\n"
     ]
    }
   ],
   "source": [
    "print(w4.T)"
   ]
  },
  {
   "cell_type": "code",
   "execution_count": 76,
   "metadata": {
    "hideCode": false,
    "hidePrompt": false
   },
   "outputs": [
    {
     "data": {
      "text/plain": [
       "matrix([[20.49172017],\n",
       "        [20.49172017],\n",
       "        [20.49172017]])"
      ]
     },
     "execution_count": 76,
     "metadata": {},
     "output_type": "execute_result"
    }
   ],
   "source": [
    "u3\n",
    "np.dot(a3,u3[:,0])/u3[:,0]"
   ]
  },
  {
   "cell_type": "markdown",
   "metadata": {
    "hideCode": false,
    "hidePrompt": false
   },
   "source": [
    "Riorder of the eigenfunctions from the lower to the higher eigenvalue"
   ]
  },
  {
   "cell_type": "code",
   "execution_count": 77,
   "metadata": {
    "hideCode": false,
    "hidePrompt": false
   },
   "outputs": [
    {
     "name": "stdout",
     "output_type": "stream",
     "text": [
      "[25.85878979 -8.27630761  8.85316451  1.56435331]\n",
      "[ 8.85316451 -8.27630761  1.56435331 25.85878979]\n"
     ]
    }
   ],
   "source": [
    "print(e4)\n",
    "print(enew)"
   ]
  },
  {
   "cell_type": "code",
   "execution_count": 78,
   "metadata": {
    "hideCode": false,
    "hidePrompt": false
   },
   "outputs": [
    {
     "name": "stdout",
     "output_type": "stream",
     "text": [
      "[[ 0.44031945 -0.32268084  0.64095556 -0.5396034 ]\n",
      " [ 0.19400223  0.74338979 -0.2537578  -0.58765783]\n",
      " [ 0.17978497 -0.57391579 -0.71408437 -0.3583037 ]\n",
      " [ 0.85799725  0.11776822 -0.12192811  0.48487617]]\n"
     ]
    }
   ],
   "source": [
    "cijTmp = np.matrix([w4.T[2],w4.T[1],w4.T[3],w4.T[0]])\n",
    "print(cijTmp)"
   ]
  },
  {
   "cell_type": "code",
   "execution_count": 79,
   "metadata": {
    "hideCode": false,
    "hidePrompt": false
   },
   "outputs": [],
   "source": [
    "oldcij = np.vstack((u3.T,[0,0,0]))\n",
    "oldcij = np.hstack((oldcij,[[0],[0],[0],[1]]))"
   ]
  },
  {
   "cell_type": "code",
   "execution_count": 80,
   "metadata": {
    "hideCode": false,
    "hidePrompt": false
   },
   "outputs": [
    {
     "name": "stdout",
     "output_type": "stream",
     "text": [
      "[[ 0.53282777  0.32586497  0.78096516  0.        ]\n",
      " [ 0.83174746 -0.03169841 -0.55424847  0.        ]\n",
      " [ 0.1558548  -0.94488477  0.28792716  0.        ]\n",
      " [ 0.          0.          0.          1.        ]]\n"
     ]
    }
   ],
   "source": [
    "print(oldcij)\n"
   ]
  },
  {
   "cell_type": "code",
   "execution_count": 81,
   "metadata": {
    "hideCode": false,
    "hidePrompt": false
   },
   "outputs": [
    {
     "data": {
      "text/plain": [
       "1.0"
      ]
     },
     "execution_count": 81,
     "metadata": {},
     "output_type": "execute_result"
    }
   ],
   "source": [
    "np.linalg.norm(oldcij[2])"
   ]
  },
  {
   "cell_type": "code",
   "execution_count": 82,
   "metadata": {
    "hideCode": false,
    "hidePrompt": false
   },
   "outputs": [
    {
     "data": {
      "text/plain": [
       "matrix([[ 0.06612146, -0.45191599,  0.70726803, -0.5396034 ],\n",
       "        [ 0.68213298,  0.27942614, -0.33357743, -0.58765783],\n",
       "        [-0.49285206,  0.75150529,  0.25289347, -0.3583037 ],\n",
       "        [ 0.5361151 ,  0.3910662 ,  0.56968669,  0.48487617]])"
      ]
     },
     "execution_count": 82,
     "metadata": {},
     "output_type": "execute_result"
    }
   ],
   "source": [
    "cijTmp*oldcij"
   ]
  },
  {
   "cell_type": "code",
   "execution_count": 83,
   "metadata": {
    "hideCode": false,
    "hidePrompt": false
   },
   "outputs": [
    {
     "data": {
      "text/plain": [
       "matrix([[ 0.5361151 ,  0.68213298, -0.49285206, -0.06612146],\n",
       "        [ 0.3910662 ,  0.27942614,  0.75150529,  0.45191599],\n",
       "        [ 0.56968669, -0.33357743,  0.25289347, -0.70726803],\n",
       "        [ 0.48487617, -0.58765783, -0.3583037 ,  0.5396034 ]])"
      ]
     },
     "execution_count": 83,
     "metadata": {},
     "output_type": "execute_result"
    }
   ],
   "source": [
    "u"
   ]
  },
  {
   "cell_type": "code",
   "execution_count": 84,
   "metadata": {
    "hideCode": false,
    "hidePrompt": false
   },
   "outputs": [
    {
     "name": "stdout",
     "output_type": "stream",
     "text": [
      "[25.85878979 -8.27630761  1.56435331  8.85316451]\n",
      "[ 8.85316451 -8.27630761  1.56435331 25.85878979]\n"
     ]
    }
   ],
   "source": [
    "print(e)\n",
    "print(enew)"
   ]
  },
  {
   "cell_type": "code",
   "execution_count": 85,
   "metadata": {
    "hideCode": false,
    "hidePrompt": false
   },
   "outputs": [
    {
     "name": "stdout",
     "output_type": "stream",
     "text": [
      "[[-0.06612146  0.45191599 -0.70726803  0.5396034 ]\n",
      " [ 0.68213298  0.27942614 -0.33357743 -0.58765783]\n",
      " [-0.49285206  0.75150529  0.25289347 -0.3583037 ]\n",
      " [ 0.5361151   0.3910662   0.56968669  0.48487617]]\n"
     ]
    }
   ],
   "source": [
    "print(u.T[[3,1,2,0]])"
   ]
  },
  {
   "cell_type": "markdown",
   "metadata": {
    "hideCode": false,
    "hidePrompt": false
   },
   "source": [
    "It seems to work... we only have a sign problem on the first row... but does it matter?"
   ]
  },
  {
   "cell_type": "markdown",
   "metadata": {},
   "source": [
    "## Example of diagonalization with a non-orthonormal basis (like gaussian) "
   ]
  },
  {
   "cell_type": "markdown",
   "metadata": {},
   "source": [
    "Let us introduce three non-orthonormal vectors. We will define the hamiltonian with respect to them.\n",
    "We also define the overlap matrix, or the metric "
   ]
  },
  {
   "cell_type": "code",
   "execution_count": 86,
   "metadata": {},
   "outputs": [],
   "source": [
    "g = np.matrix( np.zeros((3,3)) )\n",
    "base = np.matrix('1 2 1; 0 1 1; 1 1 1')\n",
    "base = base.transpose()\n",
    "for i in range(3) :\n",
    "    for j in range(3) :\n",
    "        g[i,j] = np.dot(base[:,i].transpose(),base[:,j])[0,0]   "
   ]
  },
  {
   "cell_type": "code",
   "execution_count": 87,
   "metadata": {},
   "outputs": [
    {
     "data": {
      "text/plain": [
       "matrix([[6., 3., 4.],\n",
       "        [3., 2., 2.],\n",
       "        [4., 2., 3.]])"
      ]
     },
     "execution_count": 87,
     "metadata": {},
     "output_type": "execute_result"
    }
   ],
   "source": [
    "g"
   ]
  },
  {
   "cell_type": "code",
   "execution_count": 88,
   "metadata": {},
   "outputs": [],
   "source": [
    "sig,d = np.linalg.eig(g)"
   ]
  },
  {
   "cell_type": "code",
   "execution_count": 89,
   "metadata": {},
   "outputs": [
    {
     "data": {
      "text/plain": [
       "array([10.33185141,  0.21234689,  0.45580169])"
      ]
     },
     "execution_count": 89,
     "metadata": {},
     "output_type": "execute_result"
    }
   ],
   "source": [
    "sig"
   ]
  },
  {
   "cell_type": "code",
   "execution_count": 90,
   "metadata": {},
   "outputs": [
    {
     "data": {
      "text/plain": [
       "matrix([[ 0.75578934,  0.63178128,  0.17214786],\n",
       "        [ 0.39711255, -0.23319198, -0.88765034],\n",
       "        [ 0.52065737, -0.73923874,  0.42713229]])"
      ]
     },
     "execution_count": 90,
     "metadata": {},
     "output_type": "execute_result"
    }
   ],
   "source": [
    "d"
   ]
  },
  {
   "cell_type": "code",
   "execution_count": 91,
   "metadata": {},
   "outputs": [
    {
     "data": {
      "text/plain": [
       "matrix([[ 1.03318514e+01,  3.13796899e-15,  4.89792114e-16],\n",
       "        [ 2.36953867e-15,  2.12346895e-01, -9.46371685e-16],\n",
       "        [ 7.66465347e-16, -1.06976872e-15,  4.55801692e-01]])"
      ]
     },
     "execution_count": 91,
     "metadata": {},
     "output_type": "execute_result"
    }
   ],
   "source": [
    "d.transpose()*g*d"
   ]
  },
  {
   "cell_type": "code",
   "execution_count": 92,
   "metadata": {},
   "outputs": [
    {
     "data": {
      "text/plain": [
       "1.0000000000000002"
      ]
     },
     "execution_count": 92,
     "metadata": {},
     "output_type": "execute_result"
    }
   ],
   "source": [
    "np.linalg.det(g)"
   ]
  },
  {
   "cell_type": "markdown",
   "metadata": {},
   "source": [
    "Let us define an Hamiltonian in this basis"
   ]
  },
  {
   "cell_type": "code",
   "execution_count": 93,
   "metadata": {},
   "outputs": [
    {
     "data": {
      "text/plain": [
       "matrix([[4, 4, 5],\n",
       "        [4, 2, 5],\n",
       "        [5, 5, 2]])"
      ]
     },
     "execution_count": 93,
     "metadata": {},
     "output_type": "execute_result"
    }
   ],
   "source": [
    "hs = np.matrix('2 2 3; 2 1 2; 2 3 1')\n",
    "hs = hs+hs.transpose()\n",
    "hs"
   ]
  },
  {
   "cell_type": "markdown",
   "metadata": {},
   "source": [
    "Now we can diagonalize the hamiltonian with the constraint of the norm"
   ]
  },
  {
   "cell_type": "code",
   "execution_count": 94,
   "metadata": {},
   "outputs": [],
   "source": [
    "from scipy import linalg"
   ]
  },
  {
   "cell_type": "code",
   "execution_count": 95,
   "metadata": {},
   "outputs": [],
   "source": [
    "es,ws = linalg.eig(hs,g)"
   ]
  },
  {
   "cell_type": "code",
   "execution_count": 96,
   "metadata": {},
   "outputs": [
    {
     "data": {
      "text/plain": [
       "array([ 1.78547008+0.j, -1.93271963+0.j, -9.85275045+0.j])"
      ]
     },
     "execution_count": 96,
     "metadata": {},
     "output_type": "execute_result"
    }
   ],
   "source": [
    "es"
   ]
  },
  {
   "cell_type": "markdown",
   "metadata": {},
   "source": [
    "\n",
    "Another way to diagonalize the hamiltonian is via the previous diagonalization of the overlap matrix"
   ]
  },
  {
   "cell_type": "code",
   "execution_count": 97,
   "metadata": {},
   "outputs": [],
   "source": [
    "dd = np.matrix(np.zeros( (3,3) ))\n",
    "for j in range(3) :\n",
    "    for i in range(3) :\n",
    "        dd[i,j] = d[i,j]/np.sqrt(sig[j])        "
   ]
  },
  {
   "cell_type": "code",
   "execution_count": 98,
   "metadata": {},
   "outputs": [
    {
     "data": {
      "text/plain": [
       "matrix([[ 0.23513197,  1.37102002,  0.25498443],\n",
       "        [ 0.12354482, -0.50604676, -1.31478263],\n",
       "        [ 0.16198058, -1.604212  ,  0.63266591]])"
      ]
     },
     "execution_count": 98,
     "metadata": {},
     "output_type": "execute_result"
    }
   ],
   "source": [
    "dd"
   ]
  },
  {
   "cell_type": "code",
   "execution_count": 99,
   "metadata": {},
   "outputs": [
    {
     "data": {
      "text/plain": [
       "matrix([[ 1.00000000e+00,  1.29903013e-15,  6.85970011e-16],\n",
       "        [ 1.52610360e-15,  1.00000000e+00, -2.98161268e-15],\n",
       "        [ 2.58039817e-16, -3.73494984e-15,  1.00000000e+00]])"
      ]
     },
     "execution_count": 99,
     "metadata": {},
     "output_type": "execute_result"
    }
   ],
   "source": [
    "dd.transpose()*g*dd"
   ]
  },
  {
   "cell_type": "markdown",
   "metadata": {},
   "source": [
    "And to use this matrix, which diagonalizes the overlap, to define a new hamiltonian"
   ]
  },
  {
   "cell_type": "code",
   "execution_count": 100,
   "metadata": {},
   "outputs": [],
   "source": [
    "hnew = dd.transpose()*hs*dd\n",
    "en,wn = np.linalg.eig(hnew)"
   ]
  },
  {
   "cell_type": "code",
   "execution_count": 101,
   "metadata": {},
   "outputs": [
    {
     "data": {
      "text/plain": [
       "array([-4.44089210e-15+0.j,  3.10862447e-15+0.j, -3.73034936e-14+0.j])"
      ]
     },
     "execution_count": 101,
     "metadata": {},
     "output_type": "execute_result"
    }
   ],
   "source": [
    "en-es"
   ]
  },
  {
   "cell_type": "markdown",
   "metadata": {},
   "source": [
    "The eigenvalues are the sames. If we want the eigenvectors in the old basis we have to use the transformation \n",
    "matrix (and we have to normalize)"
   ]
  },
  {
   "cell_type": "code",
   "execution_count": 102,
   "metadata": {},
   "outputs": [
    {
     "data": {
      "text/plain": [
       "matrix([[-0.2732287 , -1.05628397, -0.89978345],\n",
       "        [ 0.6439356 ,  1.17204576, -0.46006051],\n",
       "        [ 0.44852851,  0.39198   ,  1.62639904]])"
      ]
     },
     "execution_count": 102,
     "metadata": {},
     "output_type": "execute_result"
    }
   ],
   "source": [
    "dd*wn"
   ]
  },
  {
   "cell_type": "code",
   "execution_count": 103,
   "metadata": {},
   "outputs": [
    {
     "data": {
      "text/plain": [
       "array([[ 0.32881321,  0.64971951, -0.46991112],\n",
       "       [-0.77493517, -0.72092451, -0.2402662 ],\n",
       "       [-0.53977528, -0.24110662,  0.84938548]])"
      ]
     },
     "execution_count": 103,
     "metadata": {},
     "output_type": "execute_result"
    }
   ],
   "source": [
    "ws"
   ]
  },
  {
   "cell_type": "code",
   "execution_count": 104,
   "metadata": {},
   "outputs": [
    {
     "data": {
      "text/plain": [
       "matrix([[-0.32881321, -0.64971951, -0.46991112],\n",
       "        [ 0.77493517,  0.72092451, -0.2402662 ],\n",
       "        [ 0.53977528,  0.24110662,  0.84938548]])"
      ]
     },
     "execution_count": 104,
     "metadata": {},
     "output_type": "execute_result"
    }
   ],
   "source": [
    "dd*wn/np.linalg.norm(dd*wn,axis=0)"
   ]
  },
  {
   "cell_type": "markdown",
   "metadata": {},
   "source": [
    "Now let's do the same thing step-by-step as in the svm case. We define the matrix $c_{ij}$ for the components of the \n",
    "eigenvectors on the gaussian basis\n",
    "$$ |\\phi_i\\rangle = \\sum_j c_{ji} |A_j\\rangle$$"
   ]
  },
  {
   "cell_type": "markdown",
   "metadata": {},
   "source": [
    "* First step 1x1 matrix. We have only one basis element of the non-orthogonal basis set"
   ]
  },
  {
   "cell_type": "code",
   "execution_count": 105,
   "metadata": {},
   "outputs": [],
   "source": [
    "c = np.matrix(np.zeros((3,3)))"
   ]
  },
  {
   "cell_type": "code",
   "execution_count": 106,
   "metadata": {},
   "outputs": [
    {
     "name": "stdout",
     "output_type": "stream",
     "text": [
      "6.0\n",
      "4\n"
     ]
    }
   ],
   "source": [
    "# the norm is just \n",
    "print (g[0,0])\n",
    "# and the hamiltonian\n",
    "print(hs[0,0])"
   ]
  },
  {
   "cell_type": "markdown",
   "metadata": {},
   "source": [
    "the problem to solve is just algebraic problem $h\\phi = \\epsilon g \\phi$ and the solution is found by normalizing the basis vector"
   ]
  },
  {
   "cell_type": "code",
   "execution_count": 107,
   "metadata": {},
   "outputs": [
    {
     "data": {
      "text/plain": [
       "matrix([[0.40824829, 0.        , 0.        ],\n",
       "        [0.        , 0.        , 0.        ],\n",
       "        [0.        , 0.        , 0.        ]])"
      ]
     },
     "execution_count": 107,
     "metadata": {},
     "output_type": "execute_result"
    }
   ],
   "source": [
    "# the eigenvalues\n",
    "eps = np.zeros(3)\n",
    "eps[0] = hs[0,0]/g[0,0]\n",
    "# the norm \n",
    "n = np.sqrt(g[0,0] - (c[0:1,0:1]*g[0:1,0:1]))\n",
    "c[0,0] = 1/n\n",
    "c"
   ]
  },
  {
   "cell_type": "markdown",
   "metadata": {},
   "source": [
    "new hamiltonian"
   ]
  },
  {
   "cell_type": "code",
   "execution_count": 108,
   "metadata": {},
   "outputs": [
    {
     "data": {
      "text/plain": [
       "matrix([[0.66666667]])"
      ]
     },
     "execution_count": 108,
     "metadata": {},
     "output_type": "execute_result"
    }
   ],
   "source": [
    "c[0:1,0:1]*hs[0:1,0:1]*c[0:1,0:1]"
   ]
  },
  {
   "cell_type": "code",
   "execution_count": 109,
   "metadata": {},
   "outputs": [
    {
     "data": {
      "text/plain": [
       "array([0.66666667, 0.        , 0.        ])"
      ]
     },
     "execution_count": 109,
     "metadata": {},
     "output_type": "execute_result"
    }
   ],
   "source": [
    "eps"
   ]
  },
  {
   "cell_type": "markdown",
   "metadata": {},
   "source": [
    "We also introduce the scalar product $\\Phi_{ij} = \\langle \\phi_i \\,|A_j\\rangle$ where \n",
    "$|A\\rangle$ is our gaussian basis. We have that $\\Phi = c\\cdot g$"
   ]
  },
  {
   "cell_type": "code",
   "execution_count": 110,
   "metadata": {},
   "outputs": [
    {
     "data": {
      "text/plain": [
       "matrix([[2.44948974, 0.        , 0.        ],\n",
       "        [0.        , 0.        , 0.        ],\n",
       "        [0.        , 0.        , 0.        ]])"
      ]
     },
     "execution_count": 110,
     "metadata": {},
     "output_type": "execute_result"
    }
   ],
   "source": [
    "phiij = np.matrix(np.zeros((3,3)))\n",
    "phiij[0:1,0:1] = c[0:1,0:1].transpose()*g[0:1,0:1]\n",
    "phiij"
   ]
  },
  {
   "cell_type": "markdown",
   "metadata": {},
   "source": [
    "* Second step: we construct the 2x2 matrix. The second vector is constructed by Gram-Schimd orthonormalization of the\n",
    " 'gaussian' one"
   ]
  },
  {
   "cell_type": "code",
   "execution_count": 111,
   "metadata": {},
   "outputs": [
    {
     "data": {
      "text/plain": [
       "matrix([[2.44948974, 1.22474487, 0.        ],\n",
       "        [0.        , 0.        , 0.        ],\n",
       "        [0.        , 0.        , 0.        ]])"
      ]
     },
     "execution_count": 111,
     "metadata": {},
     "output_type": "execute_result"
    }
   ],
   "source": [
    "phiij[0:2,0:2] = c[0:2,0:2]*g[0:2,0:2]\n",
    "phiij"
   ]
  },
  {
   "cell_type": "code",
   "execution_count": 112,
   "metadata": {},
   "outputs": [],
   "source": [
    "tmp=0\n",
    "for i in range(1) :\n",
    "    tmp += phiij[i,1]**2\n",
    "n = np.sqrt(g[1,1] - tmp)"
   ]
  },
  {
   "cell_type": "code",
   "execution_count": 113,
   "metadata": {},
   "outputs": [
    {
     "data": {
      "text/plain": [
       "matrix([[0.40824829, 0.        , 0.        ],\n",
       "        [0.        , 0.        , 0.        ],\n",
       "        [0.        , 0.        , 0.        ]])"
      ]
     },
     "execution_count": 113,
     "metadata": {},
     "output_type": "execute_result"
    }
   ],
   "source": [
    "c"
   ]
  },
  {
   "cell_type": "code",
   "execution_count": 114,
   "metadata": {},
   "outputs": [],
   "source": [
    "c[1,1] = 1/n\n",
    "for i in range(1) :\n",
    "    for j in range(1) :\n",
    "        c[i,1] -= c[i,j]*phiij[j,1]\n",
    "    c[i,1] /= n"
   ]
  },
  {
   "cell_type": "code",
   "execution_count": 115,
   "metadata": {},
   "outputs": [
    {
     "data": {
      "text/plain": [
       "matrix([[ 0.40824829, -0.70710678,  0.        ],\n",
       "        [ 0.        ,  1.41421356,  0.        ],\n",
       "        [ 0.        ,  0.        ,  0.        ]])"
      ]
     },
     "execution_count": 115,
     "metadata": {},
     "output_type": "execute_result"
    }
   ],
   "source": [
    "c"
   ]
  },
  {
   "cell_type": "markdown",
   "metadata": {},
   "source": [
    "This is what the basis looks like explicetly"
   ]
  },
  {
   "cell_type": "code",
   "execution_count": 116,
   "metadata": {},
   "outputs": [
    {
     "name": "stdout",
     "output_type": "stream",
     "text": [
      "1.0 1.0000000000000002 [[-5.55111512e-16]]\n"
     ]
    },
    {
     "data": {
      "text/plain": [
       "matrix([[-7.07106781e-01],\n",
       "        [-4.44089210e-16],\n",
       "        [ 7.07106781e-01]])"
      ]
     },
     "execution_count": 116,
     "metadata": {},
     "output_type": "execute_result"
    }
   ],
   "source": [
    "phi = np.matrix(np.zeros((3,3)))\n",
    "phi[:,0] = c[0,0]*base[:,0]\n",
    "phi[:,1] = c[0,1]*base[:,0] + c[1,1]*base[:,1]\n",
    "print(np.linalg.norm(phi[:,0]),np.linalg.norm(phi[:,1]),np.dot(phi[:,0].transpose(),phi[:,1]))\n",
    "phi[:,1]"
   ]
  },
  {
   "cell_type": "markdown",
   "metadata": {},
   "source": [
    "Now we construct the reduced hamiltonian in the space of $\\phi_1$ and $\\phi_2$"
   ]
  },
  {
   "cell_type": "code",
   "execution_count": 117,
   "metadata": {},
   "outputs": [
    {
     "name": "stdout",
     "output_type": "stream",
     "text": [
      "[[4 4 5]\n",
      " [4 2 5]\n",
      " [5 5 2]]\n"
     ]
    },
    {
     "data": {
      "text/plain": [
       "matrix([[ 0.66666667,  1.15470054],\n",
       "        [ 1.15470054, -2.        ]])"
      ]
     },
     "execution_count": 117,
     "metadata": {},
     "output_type": "execute_result"
    }
   ],
   "source": [
    "print(hs)\n",
    "hr = c[0:2,0:2].transpose()*hs[0:2,0:2]*c[0:2,0:2]\n",
    "hr"
   ]
  },
  {
   "cell_type": "markdown",
   "metadata": {},
   "source": [
    "and we diagonalize it"
   ]
  },
  {
   "cell_type": "code",
   "execution_count": 118,
   "metadata": {},
   "outputs": [],
   "source": [
    "er,vr = np.linalg.eig(hr)"
   ]
  },
  {
   "cell_type": "code",
   "execution_count": 119,
   "metadata": {},
   "outputs": [
    {
     "data": {
      "text/plain": [
       "array([ 1.09716754, -2.43050087])"
      ]
     },
     "execution_count": 119,
     "metadata": {},
     "output_type": "execute_result"
    }
   ],
   "source": [
    "er"
   ]
  },
  {
   "cell_type": "code",
   "execution_count": 120,
   "metadata": {},
   "outputs": [
    {
     "data": {
      "text/plain": [
       "matrix([[ 0.93699758, -0.34933584],\n",
       "        [ 0.34933584,  0.93699758]])"
      ]
     },
     "execution_count": 120,
     "metadata": {},
     "output_type": "execute_result"
    }
   ],
   "source": [
    "vr"
   ]
  },
  {
   "cell_type": "markdown",
   "metadata": {},
   "source": [
    "The eigenvalues are expressed in the $\\phi_1$ and $\\phi_2$ basis. We can now calculate the new $c_{ij}$"
   ]
  },
  {
   "cell_type": "code",
   "execution_count": 121,
   "metadata": {},
   "outputs": [],
   "source": [
    "c[0:2,0:2] = c[0:2,0:2]*vr"
   ]
  },
  {
   "cell_type": "code",
   "execution_count": 122,
   "metadata": {},
   "outputs": [
    {
     "data": {
      "text/plain": [
       "matrix([[ 0.13550992, -0.8051731 ,  0.        ],\n",
       "        [ 0.49403548,  1.32511469,  0.        ],\n",
       "        [ 0.        ,  0.        ,  0.        ]])"
      ]
     },
     "execution_count": 122,
     "metadata": {},
     "output_type": "execute_result"
    }
   ],
   "source": [
    "c"
   ]
  },
  {
   "cell_type": "code",
   "execution_count": 123,
   "metadata": {},
   "outputs": [
    {
     "data": {
      "text/plain": [
       "array([0.51228312, 1.55055883, 0.        ])"
      ]
     },
     "execution_count": 123,
     "metadata": {},
     "output_type": "execute_result"
    }
   ],
   "source": [
    "np.linalg.norm(c,axis=0)"
   ]
  },
  {
   "cell_type": "markdown",
   "metadata": {},
   "source": [
    "This is the new basis in his glory "
   ]
  },
  {
   "cell_type": "code",
   "execution_count": 124,
   "metadata": {},
   "outputs": [
    {
     "name": "stdout",
     "output_type": "stream",
     "text": [
      "0.9999999999999999 1.0000000000000002 [[-3.88578059e-16]]\n"
     ]
    },
    {
     "data": {
      "text/plain": [
       "matrix([[ 0.13550992, -0.8051731 ,  0.        ],\n",
       "        [ 0.76505532, -0.28523152,  0.        ],\n",
       "        [ 0.6295454 ,  0.51994159,  0.        ]])"
      ]
     },
     "execution_count": 124,
     "metadata": {},
     "output_type": "execute_result"
    }
   ],
   "source": [
    "phi[:,0] = c[0,0]*base[:,0] + c[1,0]*base[:,1]\n",
    "phi[:,1] = c[0,1]*base[:,0] + c[1,1]*base[:,1]\n",
    "print(np.linalg.norm(phi[:,0]),np.linalg.norm(phi[:,1]),np.dot(phi[:,0].transpose(),phi[:,1]))\n",
    "phi"
   ]
  },
  {
   "cell_type": "markdown",
   "metadata": {},
   "source": [
    "* Third step - we add the last vector. We repeat the same steps as before"
   ]
  },
  {
   "cell_type": "code",
   "execution_count": 125,
   "metadata": {},
   "outputs": [
    {
     "data": {
      "text/plain": [
       "matrix([[ 2.29516597,  1.39460073,  1.53011065],\n",
       "        [-0.85569455,  0.23471007, -0.57046303],\n",
       "        [ 0.        ,  0.        ,  0.        ]])"
      ]
     },
     "execution_count": 125,
     "metadata": {},
     "output_type": "execute_result"
    }
   ],
   "source": [
    "phiij[0:3,0:3] = c[0:3,0:3].transpose()*g[0:3,0:3]\n",
    "phiij"
   ]
  },
  {
   "cell_type": "code",
   "execution_count": 126,
   "metadata": {},
   "outputs": [],
   "source": [
    "tmp=0\n",
    "for i in range(2) :\n",
    "    tmp += phiij[i,2]**2\n",
    "n = np.sqrt(g[2,2] - tmp)"
   ]
  },
  {
   "cell_type": "code",
   "execution_count": 127,
   "metadata": {},
   "outputs": [],
   "source": [
    "c[2,2] = 1/n\n",
    "for i in range(2) :\n",
    "    for j in range(2) :\n",
    "        c[i,2] -= c[i,j]*phiij[j,2]\n",
    "    c[i,2] /= n"
   ]
  },
  {
   "cell_type": "code",
   "execution_count": 128,
   "metadata": {},
   "outputs": [
    {
     "data": {
      "text/plain": [
       "matrix([[ 1.35509923e-01, -8.05173104e-01, -1.15470054e+00],\n",
       "        [ 4.94035478e-01,  1.32511469e+00,  1.92296269e-15],\n",
       "        [ 0.00000000e+00,  0.00000000e+00,  1.73205081e+00]])"
      ]
     },
     "execution_count": 128,
     "metadata": {},
     "output_type": "execute_result"
    }
   ],
   "source": [
    "c"
   ]
  },
  {
   "cell_type": "code",
   "execution_count": 129,
   "metadata": {},
   "outputs": [
    {
     "name": "stdout",
     "output_type": "stream",
     "text": [
      "[[ 0.13550992 -0.8051731   0.57735027]\n",
      " [ 0.76505532 -0.28523152 -0.57735027]\n",
      " [ 0.6295454   0.51994159  0.57735027]]\n",
      "[[ 1.00000000e+00 -3.88578059e-16 -1.11022302e-16]\n",
      " [-3.88578059e-16  1.00000000e+00  1.49880108e-15]\n",
      " [-1.11022302e-16  1.49880108e-15  1.00000000e+00]]\n"
     ]
    }
   ],
   "source": [
    "phi *= 0\n",
    "for i in range(3) :\n",
    "    for j in range(3) :\n",
    "        phi[:,i] += c[j,i]*base[:,j]\n",
    "m = np.matrix(np.zeros((3,3)))\n",
    "for i in range(3) :\n",
    "    for j in range(3) :\n",
    "        m[i,j] = np.dot(phi[:,i].transpose(),phi[:,j])\n",
    "print(phi)\n",
    "print(m)"
   ]
  },
  {
   "cell_type": "markdown",
   "metadata": {},
   "source": [
    "We project the hamiltonian and we observe that all works as expected, we have a quasi-diagonal hamiltonian\n",
    "by construction for which we could use the previous simple method to obtain the new eigenvalues"
   ]
  },
  {
   "cell_type": "code",
   "execution_count": 130,
   "metadata": {},
   "outputs": [
    {
     "data": {
      "text/plain": [
       "matrix([[ 1.35509923e-01, -8.05173104e-01, -1.15470054e+00],\n",
       "        [ 4.94035478e-01,  1.32511469e+00,  1.92296269e-15],\n",
       "        [ 0.00000000e+00,  0.00000000e+00,  1.73205081e+00]])"
      ]
     },
     "execution_count": 130,
     "metadata": {},
     "output_type": "execute_result"
    }
   ],
   "source": [
    "hr = c[0:3,0:3].transpose()*hs[0:3,0:3]*c[0:3,0:3]\n",
    "c"
   ]
  },
  {
   "cell_type": "code",
   "execution_count": 131,
   "metadata": {},
   "outputs": [
    {
     "name": "stdout",
     "output_type": "stream",
     "text": [
      "[[ 1.09716754e+00  2.88782181e-16  2.54427745e+00]\n",
      " [-1.77013402e-16 -2.43050087e+00  2.10131891e+00]\n",
      " [ 2.54427745e+00  2.10131891e+00 -8.66666667e+00]]\n"
     ]
    }
   ],
   "source": [
    "print(hr)"
   ]
  },
  {
   "cell_type": "markdown",
   "metadata": {},
   "source": [
    "the new eigenvalues and eigenvectors are"
   ]
  },
  {
   "cell_type": "code",
   "execution_count": 132,
   "metadata": {},
   "outputs": [],
   "source": [
    "er,vr = np.linalg.eig(hr)"
   ]
  },
  {
   "cell_type": "code",
   "execution_count": 133,
   "metadata": {},
   "outputs": [
    {
     "name": "stdout",
     "output_type": "stream",
     "text": [
      "[-9.85275045  1.78547008 -1.93271963]\n"
     ]
    }
   ],
   "source": [
    "print(er)"
   ]
  },
  {
   "cell_type": "markdown",
   "metadata": {},
   "source": [
    "which are the same! as the original ones (only different order)"
   ]
  },
  {
   "cell_type": "code",
   "execution_count": 134,
   "metadata": {},
   "outputs": [
    {
     "name": "stdout",
     "output_type": "stream",
     "text": [
      "[ 1.78547008 -1.93271963 -9.85275045]\n"
     ]
    }
   ],
   "source": [
    "print(np.real(es))"
   ]
  },
  {
   "cell_type": "code",
   "execution_count": 135,
   "metadata": {},
   "outputs": [
    {
     "data": {
      "text/plain": [
       "matrix([[1.78547008],\n",
       "        [1.78547008],\n",
       "        [1.78547008]])"
      ]
     },
     "execution_count": 135,
     "metadata": {},
     "output_type": "execute_result"
    }
   ],
   "source": [
    "hs*np.matrix(ws)[:,0]/(g*np.matrix(ws)[:,0])"
   ]
  },
  {
   "cell_type": "markdown",
   "metadata": {},
   "source": [
    "To obtain the new eigenvectors we only have to go back to the original basis"
   ]
  },
  {
   "cell_type": "code",
   "execution_count": 136,
   "metadata": {},
   "outputs": [
    {
     "data": {
      "text/plain": [
       "matrix([[-0.21818259, -0.95722608, -0.19003837],\n",
       "        [-0.26584157, -0.12906955,  0.95533728],\n",
       "        [ 0.93900193, -0.25895806,  0.22630976]])"
      ]
     },
     "execution_count": 136,
     "metadata": {},
     "output_type": "execute_result"
    }
   ],
   "source": [
    "vr"
   ]
  },
  {
   "cell_type": "code",
   "execution_count": 137,
   "metadata": {},
   "outputs": [],
   "source": [
    "c = c*vr"
   ]
  },
  {
   "cell_type": "code",
   "execution_count": 138,
   "metadata": {},
   "outputs": [
    {
     "data": {
      "text/plain": [
       "matrix([[-0.89978345,  0.2732287 , -1.05628397],\n",
       "        [-0.46006051, -0.6439356 ,  1.17204576],\n",
       "        [ 1.62639904, -0.44852851,  0.39198   ]])"
      ]
     },
     "execution_count": 138,
     "metadata": {},
     "output_type": "execute_result"
    }
   ],
   "source": [
    "c"
   ]
  },
  {
   "cell_type": "code",
   "execution_count": 139,
   "metadata": {},
   "outputs": [
    {
     "data": {
      "text/plain": [
       "[matrix([[-9.85275045],\n",
       "         [-9.85275045],\n",
       "         [-9.85275045]]), matrix([[1.78547008],\n",
       "         [1.78547008],\n",
       "         [1.78547008]]), matrix([[-1.93271963],\n",
       "         [-1.93271963],\n",
       "         [-1.93271963]])]"
      ]
     },
     "execution_count": 139,
     "metadata": {},
     "output_type": "execute_result"
    }
   ],
   "source": [
    "[hs*c[:,i]/(g*c[:,i]) for i in range(3)]"
   ]
  },
  {
   "cell_type": "code",
   "execution_count": 141,
   "metadata": {},
   "outputs": [
    {
     "data": {
      "text/plain": [
       "matrix([[ 1.00000000e+00, -4.63614473e-16,  1.85204205e-15],\n",
       "        [-9.41645160e-17,  1.00000000e+00, -6.93322264e-17],\n",
       "        [ 1.69446039e-15, -5.42504184e-17,  1.00000000e+00]])"
      ]
     },
     "execution_count": 141,
     "metadata": {},
     "output_type": "execute_result"
    }
   ],
   "source": [
    "c.transpose()*g*c"
   ]
  },
  {
   "cell_type": "code",
   "execution_count": 142,
   "metadata": {},
   "outputs": [
    {
     "name": "stdout",
     "output_type": "stream",
     "text": [
      "[[ 0.72661559 -0.17529981 -0.66430396]\n",
      " [-0.63322837 -0.54600671 -0.54854217]\n",
      " [ 0.26655508 -0.81923541  0.5077418 ]]\n"
     ]
    }
   ],
   "source": [
    "phi *= 0\n",
    "for i in range(3) :\n",
    "    for j in range(3) :\n",
    "        phi[:,i] += c[j,i]*base[:,j]\n",
    "m = np.matrix(np.zeros((3,3)))\n",
    "for i in range(3) :\n",
    "    for j in range(3) :\n",
    "        m[i,j] = np.dot(phi[:,i].transpose(),phi[:,j])\n",
    "print(phi)"
   ]
  },
  {
   "cell_type": "code",
   "execution_count": 142,
   "metadata": {},
   "outputs": [
    {
     "data": {
      "text/plain": [
       "matrix([[-9.85275045e+00,  2.56480632e-15, -1.55757934e-15],\n",
       "        [ 2.54144826e-15,  1.78547008e+00,  5.66804901e-16],\n",
       "        [-1.07504342e-15,  4.81886457e-16, -1.93271963e+00]])"
      ]
     },
     "execution_count": 142,
     "metadata": {},
     "output_type": "execute_result"
    }
   ],
   "source": [
    "c.transpose()*hs*c"
   ]
  },
  {
   "cell_type": "code",
   "execution_count": 143,
   "metadata": {},
   "outputs": [
    {
     "data": {
      "text/plain": [
       "matrix([[-0.89978345,  0.2732287 , -1.05628397],\n",
       "        [-0.46006051, -0.6439356 ,  1.17204576],\n",
       "        [ 1.62639904, -0.44852851,  0.39198   ]])"
      ]
     },
     "execution_count": 143,
     "metadata": {},
     "output_type": "execute_result"
    }
   ],
   "source": [
    "c"
   ]
  },
  {
   "cell_type": "code",
   "execution_count": 144,
   "metadata": {},
   "outputs": [],
   "source": [
    "cr = c[0:2,0:2]"
   ]
  },
  {
   "cell_type": "code",
   "execution_count": 145,
   "metadata": {},
   "outputs": [
    {
     "data": {
      "text/plain": [
       "matrix([[7.76470191, 0.47852127],\n",
       "        [0.47852127, 0.22157953]])"
      ]
     },
     "execution_count": 145,
     "metadata": {},
     "output_type": "execute_result"
    }
   ],
   "source": [
    "cr.transpose()*g[0:2,0:2]*cr"
   ]
  },
  {
   "cell_type": "code",
   "execution_count": null,
   "metadata": {},
   "outputs": [],
   "source": []
  }
 ],
 "metadata": {
  "hide_code_all_hidden": false,
  "kernelspec": {
   "display_name": "Python 3",
   "language": "python",
   "name": "python3"
  },
  "language_info": {
   "codemirror_mode": {
    "name": "ipython",
    "version": 3
   },
   "file_extension": ".py",
   "mimetype": "text/x-python",
   "name": "python",
   "nbconvert_exporter": "python",
   "pygments_lexer": "ipython3",
   "version": "3.8.5"
  }
 },
 "nbformat": 4,
 "nbformat_minor": 2
}
