{
 "cells": [
  {
   "cell_type": "markdown",
   "metadata": {},
   "source": [
    "# Notebook to get graph and plot to insert in DeepFew Proposal"
   ]
  },
  {
   "cell_type": "markdown",
   "metadata": {},
   "source": [
    "## Preamble"
   ]
  },
  {
   "cell_type": "markdown",
   "metadata": {},
   "source": [
    "We investigate the distribution of alphas and distances in the specific case of He trimer with a simple Gaussian Potential"
   ]
  },
  {
   "cell_type": "code",
   "execution_count": 1,
   "metadata": {},
   "outputs": [],
   "source": [
    "import numpy as np\n",
    "import scipy as sp\n",
    "import math\n",
    "import h5py\n",
    "\n",
    "import matplotlib\n",
    "#matplotlib.use('Agg')\n",
    "from mpl_toolkits import mplot3d\n",
    "from mpl_toolkits.mplot3d import Axes3D\n",
    "import matplotlib.pyplot as plt\n",
    "import itertools\n",
    "from matplotlib import cm\n",
    "from matplotlib import rc\n",
    "#rc('font',**{'family':'sans-serif','sans-serif':['Helvetica']})\n",
    "## for Palatino and other serif fonts use:\n",
    "rc('font',**{'family':'serif','serif':['Palatino']})\n",
    "rc('text', usetex=True)\n",
    "%load_ext autoreload\n",
    "%autoreload 2\n",
    "from IPython import get_ipython\n",
    "# get_ipython().run_line_magic('matplotlib', 'qt')\n",
    "\n",
    "from numpy import random\n",
    "from scipy import linalg\n",
    "from scipy.spatial.distance import pdist\n",
    "from scipy.spatial.distance import squareform\n",
    "# from sklearn.decomposition import PCA\n",
    "# from sklearn.preprocessing import StandardScaler\n",
    "\n",
    "f = h5py.File(\"prova_random_gauss_6.h5\")"
   ]
  },
  {
   "cell_type": "code",
   "execution_count": 20,
   "metadata": {},
   "outputs": [
    {
     "name": "stdout",
     "output_type": "stream",
     "text": [
      "[[1.  2.  3. ]\n",
      " [2.1 4.2 6.3]\n",
      " [2.  6.  4. ]]\n",
      "1.865174681370252e-15\n",
      "[[-1.12589991e+16  5.36142813e+15 -1.00000000e+00]\n",
      " [ 2.25179981e+15 -1.07228563e+15  5.00000000e-01]\n",
      " [ 2.25179981e+15 -1.07228563e+15  0.00000000e+00]]\n",
      "[[0.32936918 0.31783757 0.53653211]\n",
      " [0.63684249 0.38935607 0.47111824]\n",
      " [0.15044245 0.00337018 0.51944541]]\n",
      "-0.04679960107014134\n",
      "[[-4.2876747   3.48915487  1.2641764 ]\n",
      " [ 5.55407999 -1.9310443  -3.98538904]\n",
      " [ 1.20576675 -0.99800483  1.5848551 ]]\n",
      "[ 7.07213268e+14  4.96289336e-01 -1.45166039e-01]\n",
      "[        inf+0.j  0.48713434+0.j -0.07283221+0.j]\n"
     ]
    }
   ],
   "source": [
    "A = np.array([[1,2,3],[2.1,4.2,6.3],[2,6,4]])\n",
    "B = np.array([np.random.random(3),np.random.random(3),np.random.random(3)])\n",
    "print(A)\n",
    "print(np.linalg.det(A))\n",
    "print(np.linalg.inv(A))\n",
    "print(B)\n",
    "print(np.linalg.det(B))\n",
    "print(np.linalg.inv(B))\n",
    "e,w = np.linalg.eig(np.linalg.inv(A)@B)\n",
    "e1,w1 = sp.linalg.eig(B,A)\n",
    "print(e)\n",
    "print(e1)"
   ]
  },
  {
   "cell_type": "code",
   "execution_count": 19,
   "metadata": {},
   "outputs": [
    {
     "ename": "NameError",
     "evalue": "name 'So' is not defined",
     "output_type": "error",
     "traceback": [
      "\u001b[0;31m---------------------------------------------------------------------------\u001b[0m",
      "\u001b[0;31mNameError\u001b[0m                                 Traceback (most recent call last)",
      "\u001b[0;32m<ipython-input-19-72bf66c05e6b>\u001b[0m in \u001b[0;36m<module>\u001b[0;34m\u001b[0m\n\u001b[0;32m----> 1\u001b[0;31m \u001b[0mS\u001b[0m \u001b[0;34m=\u001b[0m \u001b[0mnp\u001b[0m\u001b[0;34m.\u001b[0m\u001b[0mcopy\u001b[0m\u001b[0;34m(\u001b[0m\u001b[0mSo\u001b[0m\u001b[0;34m)\u001b[0m\u001b[0;34m\u001b[0m\u001b[0;34m\u001b[0m\u001b[0m\n\u001b[0m\u001b[1;32m      2\u001b[0m \u001b[0;31m# S[5,:] = np.array([0.28037, 0.304082, 0.308246, 0.269032, 0.287138, 0.230686])\u001b[0m\u001b[0;34m\u001b[0m\u001b[0;34m\u001b[0m\u001b[0;34m\u001b[0m\u001b[0m\n\u001b[1;32m      3\u001b[0m \u001b[0;31m# S[:,5] = np.array([0.28037, 0.304082, 0.308246, 0.269032, 0.287138, 0.230686])\u001b[0m\u001b[0;34m\u001b[0m\u001b[0;34m\u001b[0m\u001b[0;34m\u001b[0m\u001b[0m\n\u001b[1;32m      4\u001b[0m \u001b[0mprint\u001b[0m\u001b[0;34m(\u001b[0m\u001b[0;34m\"original matrix:\"\u001b[0m \u001b[0;34m,\u001b[0m \u001b[0mSo\u001b[0m\u001b[0;34m)\u001b[0m\u001b[0;34m\u001b[0m\u001b[0;34m\u001b[0m\u001b[0m\n\u001b[1;32m      5\u001b[0m \u001b[0mprint\u001b[0m\u001b[0;34m(\u001b[0m\u001b[0;34m\"Det of the orignal matrix\"\u001b[0m\u001b[0;34m,\u001b[0m \u001b[0mnp\u001b[0m\u001b[0;34m.\u001b[0m\u001b[0mlinalg\u001b[0m\u001b[0;34m.\u001b[0m\u001b[0mdet\u001b[0m\u001b[0;34m(\u001b[0m\u001b[0mSo\u001b[0m\u001b[0;34m)\u001b[0m\u001b[0;34m)\u001b[0m\u001b[0;34m\u001b[0m\u001b[0;34m\u001b[0m\u001b[0m\n",
      "\u001b[0;31mNameError\u001b[0m: name 'So' is not defined"
     ]
    }
   ],
   "source": [
    "S = np.copy(So)\n",
    "# S[5,:] = np.array([0.28037, 0.304082, 0.308246, 0.269032, 0.287138, 0.230686])\n",
    "# S[:,5] = np.array([0.28037, 0.304082, 0.308246, 0.269032, 0.287138, 0.230686])\n",
    "print(\"original matrix:\" , So)\n",
    "print(\"Det of the orignal matrix\", np.linalg.det(So))\n",
    "S1 = np.linalg.inv(So)\n",
    "print(\"inverso of the otiginal:\", S1)\n",
    "# print(\"the matrix not invertible:\", S)\n",
    "# print(\"Det of the not invert matrix\", np.linalg.det(S))\n",
    "# print(\"the inverse of the not invertible:\", np.linalg.inv(S))"
   ]
  },
  {
   "cell_type": "markdown",
   "metadata": {},
   "source": [
    "Here the distances"
   ]
  },
  {
   "cell_type": "code",
   "execution_count": null,
   "metadata": {},
   "outputs": [],
   "source": [
    "r0 = alphas[:,0]\n",
    "r1 = alphas[:,1]\n",
    "r2 = alphas[:,2]\n",
    "#r3 = alphas[:,3]\n",
    "distances = np.array(([r0,r1,r2]))\n",
    "distances = distances.transpose()\n",
    "distances"
   ]
  },
  {
   "cell_type": "markdown",
   "metadata": {},
   "source": [
    "### Display distances in 3D"
   ]
  },
  {
   "cell_type": "code",
   "execution_count": null,
   "metadata": {},
   "outputs": [],
   "source": [
    "%matplotlib qt\n",
    "fig = plt.figure()\n",
    "ax = fig.add_subplot(111, projection='3d')\n",
    "ax.set_xlabel('$d_{12}$')\n",
    "ax.set_ylabel('$d_{13}$')\n",
    "ax.set_zlabel('$d_{23}$')\n",
    "ax.scatter(r0,r1,r2, marker='o')\n",
    "plt.savefig('scatter_distances_in_3B.pdf', format='pdf', dpi=1000)"
   ]
  },
  {
   "cell_type": "markdown",
   "metadata": {},
   "source": [
    "### Display distances in 2D with PCA"
   ]
  },
  {
   "cell_type": "code",
   "execution_count": null,
   "metadata": {},
   "outputs": [],
   "source": [
    "sc = StandardScaler()\n",
    "#dista = sc.fit_transform(X_train)\n",
    "pca = PCA(n_components=2, svd_solver='full')\n",
    "distances2D = pca.fit_transform(distances)\n",
    "%matplotlib qt\n",
    "plt.grid(True)\n",
    "plt.xlabel('First principal component')\n",
    "plt.ylabel('Second principal component')\n",
    "distances2D[:,1].shape\n",
    "plt.scatter(distances2D[:,0],distances2D[:,1])\n",
    "plt.savefig('PCA_3B.pdf', format='pdf', dpi=1000)\n",
    "var = pca.explained_variance_ratio_\n",
    "var"
   ]
  },
  {
   "cell_type": "markdown",
   "metadata": {},
   "source": [
    "### Display distances in 3D with PCA"
   ]
  },
  {
   "cell_type": "code",
   "execution_count": null,
   "metadata": {},
   "outputs": [],
   "source": [
    "sc = StandardScaler()\n",
    "#dista = sc.fit_transform(X_train)\n",
    "pca = PCA(n_components=3, svd_solver='full')\n",
    "distances3D = pca.fit_transform(distances)\n",
    "%matplotlib qt\n",
    "fig = plt.figure()\n",
    "ax = fig.add_subplot(111, projection='3d')\n",
    "ax.set_xlabel('First principal component')\n",
    "ax.set_ylabel('Second principal component')\n",
    "ax.set_zlabel('Third principal component')\n",
    "distances3D[:,1].shape\n",
    "ax.scatter(distances3D[:,0],distances3D[:,1],distances3D[:,2], marker='o')\n",
    "plt.savefig('PCA_3B.pdf', format='pdf', dpi=1000)\n",
    "var = pca.explained_variance_ratio_\n",
    "var"
   ]
  },
  {
   "cell_type": "markdown",
   "metadata": {},
   "source": [
    "### How distances spread out"
   ]
  },
  {
   "cell_type": "code",
   "execution_count": null,
   "metadata": {},
   "outputs": [],
   "source": [
    "plt.rcParams.update({'font.size': 11})\n",
    "\n",
    "plt.xlabel('Width gaussian parameters between first couple of particles $\\sigma_{12}$')\n",
    "plt.ylabel('counts')\n",
    "plt.grid(True)\n",
    "plt.hist(r0,bins = 40)\n",
    "plt.savefig('distance_between_first_couple_of_particles.pdf', format='pdf', dpi=1000)\n",
    "plt.savefig('distance_between_first_couple_of_particles.pgf', format='pgf', dpi=1000)"
   ]
  },
  {
   "cell_type": "markdown",
   "metadata": {},
   "source": [
    "### How hyper--radius spreads out compared to central limit theorem"
   ]
  },
  {
   "cell_type": "code",
   "execution_count": null,
   "metadata": {},
   "outputs": [],
   "source": [
    "hyperR = np.sqrt(r0**2 + r1**2 + r2**2)\n",
    "a = 500*np.random.random(alphas.shape[0])\n",
    "b = 500*np.random.random(alphas.shape[0])\n",
    "c = 500*np.random.random(alphas.shape[0])\n",
    "uniformGauss = np.sqrt(a**2 + b**2 + c**2)\n",
    "plt.rcParams.update({'font.size': 11})\n",
    "plt.xlabel('Hyper--radius $\\\\rho$')\n",
    "plt.ylabel('counts')\n",
    "plt.grid(True)\n",
    "plt.hist(hyperR,bins=40, alpha=0.5, label='Hyper--radius distribution')\n",
    "plt.hist(uniformGauss,bins=40, alpha=0.3, label='Addition of uniform dist')\n",
    "plt.legend()\n",
    "plt.savefig('graphAnr/hyper-radius.pdf', format='pdf', dpi=1000)"
   ]
  },
  {
   "cell_type": "code",
   "execution_count": null,
   "metadata": {},
   "outputs": [],
   "source": []
  }
 ],
 "metadata": {
  "kernelspec": {
   "display_name": "Python 3",
   "language": "python",
   "name": "python3"
  },
  "language_info": {
   "codemirror_mode": {
    "name": "ipython",
    "version": 3
   },
   "file_extension": ".py",
   "mimetype": "text/x-python",
   "name": "python",
   "nbconvert_exporter": "python",
   "pygments_lexer": "ipython3",
   "version": "3.8.8"
  }
 },
 "nbformat": 4,
 "nbformat_minor": 2
}
