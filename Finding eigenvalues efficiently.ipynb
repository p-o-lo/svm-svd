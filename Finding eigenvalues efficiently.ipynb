{
 "cells": [
  {
   "cell_type": "markdown",
   "metadata": {},
   "source": [
    "# Finding Eigenvalues efficiently (Suzuki - Varga pg 28)"
   ]
  },
  {
   "cell_type": "markdown",
   "metadata": {},
   "source": [
    "## Import and complete eigenvalues problem"
   ]
  },
  {
   "cell_type": "code",
   "execution_count": 1,
   "metadata": {},
   "outputs": [],
   "source": [
    "import numpy as np\n",
    "import h5py\n",
    "import math\n",
    "import scipy as sp\n",
    "from scipy import linalg\n",
    "from scipy import optimize\n",
    "from matplotlib import pyplot as plt\n",
    "from IPython import get_ipython\n",
    "get_ipython().run_line_magic('matplotlib', 'qt')\n",
    "%matplotlib qt"
   ]
  },
  {
   "cell_type": "markdown",
   "metadata": {},
   "source": [
    "A generic hamiltonian $h$ has been chosen"
   ]
  },
  {
   "cell_type": "code",
   "execution_count": 2,
   "metadata": {},
   "outputs": [
    {
     "name": "stdout",
     "output_type": "stream",
     "text": [
      "Our full hamiltonian: \n",
      " [[1.23458200e-07 5.82948000e-08 2.00000008e+00]\n",
      " [5.82948000e-08 3.25814000e-08 3.00000004e+00]\n",
      " [2.00000008e+00 3.00000004e+00 2.00000000e+00]]\n"
     ]
    }
   ],
   "source": [
    "ha = np.array([[6.17291e-08, 2.91474e-08, 7.92295e-08],[2.91474e-08, 1.62907e-08, 3.54148e-08],[2.,3.,1.]])\n",
    "ha = ha + ha.transpose()\n",
    "print('Our full hamiltonian: \\n', ha)"
   ]
  },
  {
   "cell_type": "markdown",
   "metadata": {},
   "source": [
    "Three random non orthonormal basis have been chosen, and so their scalar product has been calculated"
   ]
  },
  {
   "cell_type": "code",
   "execution_count": 3,
   "metadata": {},
   "outputs": [
    {
     "name": "stdout",
     "output_type": "stream",
     "text": [
      "Our scalsr prod matrix is: \n",
      " [[6. 3. 4.]\n",
      " [3. 2. 2.]\n",
      " [4. 2. 3.]]\n"
     ]
    },
    {
     "data": {
      "text/plain": [
       "array([[1, 2, 1],\n",
       "       [2, 4, 2],\n",
       "       [1, 2, 1]])"
      ]
     },
     "execution_count": 3,
     "metadata": {},
     "output_type": "execute_result"
    }
   ],
   "source": [
    "aa0 = np.array([1,2,1])\n",
    "aa1 = np.array([0,1,1])\n",
    "aa2 = np.array([1,1,1])\n",
    "base = np.array([aa0,aa1,aa2])\n",
    "base = base.transpose()\n",
    "ga = np.zeros((3,3))\n",
    "for i in range(3) :\n",
    "    for j in range(3) :\n",
    "        ga[i,j] = np.dot(base[:,i].transpose(),base[:,j])\n",
    "print('Our scalsr prod matrix is: \\n', ga)\n",
    "np.tensordot(aa0,aa0.transpose(),axes=0)"
   ]
  },
  {
   "cell_type": "markdown",
   "metadata": {},
   "source": [
    "We need to solove the generalized eigenvalues problem\n",
    "$$H |\\psi> = E N |\\psi>$$"
   ]
  },
  {
   "cell_type": "code",
   "execution_count": 4,
   "metadata": {},
   "outputs": [
    {
     "name": "stdout",
     "output_type": "stream",
     "text": [
      "The eigenvalues we should get are: \n",
      " [ 4.19615236e+00+0.j  2.08427614e-08+0.j -6.19615250e+00+0.j]\n"
     ]
    }
   ],
   "source": [
    "ea,wa = sp.linalg.eig(ha,ga)\n",
    "print('The eigenvalues we should get are: \\n', ea)"
   ]
  },
  {
   "cell_type": "markdown",
   "metadata": {},
   "source": [
    "Now step by step procedure."
   ]
  },
  {
   "cell_type": "markdown",
   "metadata": {},
   "source": [
    "## First step: just a number"
   ]
  },
  {
   "cell_type": "markdown",
   "metadata": {},
   "source": [
    "A random gaussian basis element is genereted $|A_0>$. **This basis is not orthonormal**"
   ]
  },
  {
   "cell_type": "code",
   "execution_count": 5,
   "metadata": {},
   "outputs": [
    {
     "name": "stdout",
     "output_type": "stream",
     "text": [
      "The old basis is: \n",
      " [1. 2. 1.]\n"
     ]
    }
   ],
   "source": [
    "a = np.zeros((3,3))\n",
    "a[0] = np.array([1,2,1])\n",
    "print('The old basis is: \\n',a[0])"
   ]
  },
  {
   "cell_type": "markdown",
   "metadata": {},
   "source": [
    "The first element of our hamiltonian $h$ is calculated in this basis: $h_{00} = <A_0 | h |A_0>$"
   ]
  },
  {
   "cell_type": "code",
   "execution_count": null,
   "metadata": {},
   "outputs": [],
   "source": [
    "ho = np.zeros((3,3))\n",
    "ho[0,0] = 4\n",
    "print('The original hamiltoniana at this first step: \\n', ho)\n",
    "g = np.zeros((3,3))\n",
    "g[0,0] = a[0]@a[0].transpose()\n",
    "print('The scalar product matrix at this first step: \\n', g)"
   ]
  },
  {
   "cell_type": "markdown",
   "metadata": {},
   "source": [
    "Our eigenvalues problem looks as\n",
    "$$ <A_0 | h |A_0> = E <A_0 | A_0> \\rightarrow h_{00} = \\epsilon_0 g_{00}$$\n",
    "where $g$ indicates the matrix of the scalar product $g_{ij} = <A_i |A_j>$. \n",
    "\n",
    "In this simple case our eignavalues problem is just an algebric equation which solution sipmly is \n",
    "$$ \\epsilon_0 = \\frac{h_{00}}{g_{00}}$$"
   ]
  },
  {
   "cell_type": "code",
   "execution_count": null,
   "metadata": {},
   "outputs": [],
   "source": [
    "eigs = np.zeros(3)\n",
    "eigs[0] = ho[0,0]/g[0,0]\n",
    "print('First eigenvalues found: \\n', eigs)"
   ]
  },
  {
   "cell_type": "markdown",
   "metadata": {},
   "source": [
    "It's possible to solve this eigenvalues problem by redefining the basis vector in order to have an orthonormal basis. In this case we simple need to\n",
    "$$|A_0> → |\\phi_0> = \\frac{|A_0>}{\\sqrt{<A_0|A_0>}} = \\frac{|A_0>}{\\sqrt{g_{00}}}$$\n",
    "With this new basis element the matrix element of our hamiltonian becomes \n",
    "$$<\\phi_0 | h |\\phi_0> = \\epsilon_0$$"
   ]
  },
  {
   "cell_type": "code",
   "execution_count": null,
   "metadata": {},
   "outputs": [],
   "source": [
    "phi = np.zeros((3,3))\n",
    "phi[0] = a[0]/np.sqrt(g[0,0])\n",
    "print('The new basis is: \\n', phi[0])"
   ]
  },
  {
   "cell_type": "markdown",
   "metadata": {},
   "source": [
    "We define a new hamiltonian matrix which basis elements are alculated in the new basis"
   ]
  },
  {
   "cell_type": "code",
   "execution_count": null,
   "metadata": {},
   "outputs": [],
   "source": [
    "hn = np.zeros((3,3))\n",
    "hn[0,0] = ho[0,0]/g[0,0]\n",
    "print('The new hamiltoniana at the end of this first step: \\n', hn)"
   ]
  },
  {
   "cell_type": "markdown",
   "metadata": {},
   "source": [
    "It's useful to introduce a matrix $c_{ij}$ consisting of the coefficients to pass from the basis of gaussian $|A>$  (non-orthonormal) to the orthonormal basis $|\\phi>$\n",
    "$$ |\\phi_i>  = \\sum_{j} c_{ji} |A_j>$$"
   ]
  },
  {
   "cell_type": "code",
   "execution_count": null,
   "metadata": {},
   "outputs": [],
   "source": [
    "c = np.zeros((3,3))\n",
    "n = np.sqrt(g[0,0] - (c[0,0]*g[0,0]))\n",
    "c[0,0] = 1/n\n",
    "print('The matrix of basis conversion at this stage is: \\n',c)"
   ]
  },
  {
   "cell_type": "markdown",
   "metadata": {},
   "source": [
    "Finally it's useful to introduce the matrix of scalar product between the old basis and the new one\n",
    "$$f_{ij} = <\\phi_i|A_j>$$"
   ]
  },
  {
   "cell_type": "code",
   "execution_count": null,
   "metadata": {},
   "outputs": [],
   "source": [
    "f = np.zeros((3,3))\n",
    "f[0,0] = phi[0]@a[0].transpose()\n",
    "# fm = np.zeros((3,3))\n",
    "# fm[0,0] = c[0,0]*g[0,0]\n",
    "print('Scalar product between old basis and new one: \\n',f)"
   ]
  },
  {
   "cell_type": "markdown",
   "metadata": {},
   "source": [
    "## Second step"
   ]
  },
  {
   "cell_type": "markdown",
   "metadata": {},
   "source": [
    "### Adding another basis element, calculation of useful matrix and orthonormalization of gaussian basis"
   ]
  },
  {
   "cell_type": "markdown",
   "metadata": {},
   "source": [
    "Adding of another random basis element $|A_1>$ and calculation of the new elements of the scalra product matrix:$g_{01} = g_{10} = <A_0 |A_1>$ and $g_{11} = <A_1 |A_1>$"
   ]
  },
  {
   "cell_type": "code",
   "execution_count": null,
   "metadata": {},
   "outputs": [],
   "source": [
    "a[1] = np.array([0,1,1])\n",
    "g[0,1] = a[0]@a[1].transpose()\n",
    "g[1,0] = g[0,1]\n",
    "g[1,1] = a[1]@a[1].transpose()\n",
    "print('New scalar product matrix at this second step: \\n', g)"
   ]
  },
  {
   "cell_type": "markdown",
   "metadata": {},
   "source": [
    "Calculation of the others matrix elements with this new basis element: $h_{01} = h_{10} = <A_0 | h |A_1>$ and $h_{11} =<A_1 | h |A_1>$"
   ]
  },
  {
   "cell_type": "code",
   "execution_count": null,
   "metadata": {},
   "outputs": [],
   "source": [
    "ho[0,1] = 4\n",
    "ho[1,0] = ho[0,1]\n",
    "ho[1,1] = 2\n",
    "print('New original hamiltoniana at this second step: \\n', ho)"
   ]
  },
  {
   "cell_type": "markdown",
   "metadata": {},
   "source": [
    "Before to orthonormalize this basis is useful to calculate the first row remaining elements of the matrix $f_{ij}$ and $p_{ij}$:\n",
    "$$ f_{01} = <\\phi_0|A_1> \\\\ p_{01} = <\\phi_0| h |A_1> $$"
   ]
  },
  {
   "cell_type": "code",
   "execution_count": null,
   "metadata": {},
   "outputs": [],
   "source": [
    "f[0,1] = phi[0]@a[1].transpose()"
   ]
  },
  {
   "cell_type": "markdown",
   "metadata": {},
   "source": [
    "The Gram-Scmihdt orthonormalization is applied to non-orthonormal gaussian basis:\n",
    "$$|A_1> → |\\phi_1> = \\frac{|A_1> -|\\phi_0><\\phi_0|A_1>}{\\sqrt{<A_1|A_1> - |<\\phi_0|A_1>|^2 }} = \\frac{|A_1> -|A_0>f_{01}}{\\sqrt{g_{11} - f_{01}^2}}$$"
   ]
  },
  {
   "cell_type": "code",
   "execution_count": null,
   "metadata": {},
   "outputs": [],
   "source": [
    "phi[1] = (a[1] - phi[0]*f[0,1])/np.sqrt(g[1,1]- f[0,1]**2)\n",
    "print('The new orthonormal basis element is: \\n', phi)"
   ]
  },
  {
   "cell_type": "markdown",
   "metadata": {},
   "source": [
    "Now the other elements of the matrix $f_{ij}$"
   ]
  },
  {
   "cell_type": "code",
   "execution_count": null,
   "metadata": {},
   "outputs": [],
   "source": [
    "f[1,0] = phi[1]@a[0].transpose()\n",
    "f[1,1] = phi[1]@a[1].transpose()\n",
    "('The matrix fij at this stage: \\n',f)"
   ]
  },
  {
   "cell_type": "markdown",
   "metadata": {},
   "source": [
    "Now the elements of the transformation matrix $c_{ij}$"
   ]
  },
  {
   "cell_type": "code",
   "execution_count": null,
   "metadata": {},
   "outputs": [],
   "source": [
    "tmp=0\n",
    "for i in range(1) :\n",
    "    tmp += f[i,1]**2\n",
    "n = np.sqrt(g[1,1] - tmp)\n",
    "c[1,1] = 1/n\n",
    "for i in range(1) :\n",
    "    for j in range(1) :\n",
    "        c[i,1] -= c[i,j]*f[j,1]\n",
    "    c[i,1] /= n\n",
    "c"
   ]
  },
  {
   "cell_type": "markdown",
   "metadata": {},
   "source": [
    "And now the matrix elements of new hamiltonian within this new basis set "
   ]
  },
  {
   "cell_type": "code",
   "execution_count": null,
   "metadata": {},
   "outputs": [],
   "source": [
    "hn = c.transpose()@ho@c\n",
    "print('The new hamiltoniana at the end of this second step: \\n', hn)"
   ]
  },
  {
   "cell_type": "markdown",
   "metadata": {},
   "source": [
    "### Diagonalization of the hamiltoniana and introduction of new basis orthonormal for both hamiltoniana and scalar product"
   ]
  },
  {
   "cell_type": "code",
   "execution_count": null,
   "metadata": {},
   "outputs": [],
   "source": [
    "et,wt = sp.linalg.eig(hn)\n",
    "print('The eigenvalues of the hamiltonian at this stage are: \\n', et)\n",
    "print('The eigenvectors of the hamiltonian at this stage are: \\n', wt)"
   ]
  },
  {
   "cell_type": "markdown",
   "metadata": {},
   "source": [
    "The problem it's been solved is:\n",
    "\n",
    "1. Orthonormalization of gaussian basis in order to get a matrix of scalar product (the $g_{ij}$) equals to the identity matrix; the transformation has been called $c_{ij}$\n",
    "$$ g_{ij} → c^T g c = 1$$\n",
    "\n",
    "2. Projection of the old hamiltonian onto space spanned by this new basis\n",
    "$$h_{ij} = <A_i|h|A_j> → h_{new} = c^T h c$$\n",
    "\n",
    "3. Diagonalization of this last hamiltonian within its eigenvectors\n",
    "$$h_{new} → h_{brand_{new}} = w^T h_{new} w = w^T c^T h c w$$\n",
    "\n",
    "Then the final transformation to get both a diagonal hamiltonian and a identity scalar product is $c\\dot w$"
   ]
  },
  {
   "cell_type": "code",
   "execution_count": null,
   "metadata": {},
   "outputs": [],
   "source": [
    "c@wt"
   ]
  },
  {
   "cell_type": "markdown",
   "metadata": {},
   "source": [
    "We can define the new basis $\\phi_{new}$ at the end of this second step"
   ]
  },
  {
   "cell_type": "code",
   "execution_count": null,
   "metadata": {},
   "outputs": [],
   "source": [
    "phin = wt.transpose()@phi\n",
    "print('The new basis that makes both orthonormal the scalar product and diagonal the hamiltonian is:\\n', phin)"
   ]
  },
  {
   "cell_type": "markdown",
   "metadata": {},
   "source": [
    "Finally the new ransformation matrix $c_{ij}$ and the matrix elements of the hamiltonian within it"
   ]
  },
  {
   "cell_type": "code",
   "execution_count": null,
   "metadata": {},
   "outputs": [],
   "source": [
    "cn = c@wt\n",
    "hnd = cn.transpose()@ho@cn\n",
    "print('The hamiltonian at the end of this first step:\\n',hnd)"
   ]
  },
  {
   "cell_type": "markdown",
   "metadata": {},
   "source": [
    "### Suzuki - Varga pg 28 procedure"
   ]
  },
  {
   "cell_type": "markdown",
   "metadata": {},
   "source": [
    "This procedure is useful for refinement: after having a quasi diagonal matrix at stage $k$ we colud test $n$ new random basis element $|A_{k+1}>$ and then to choose the one that gives the lowest eigenvalue (without to diagonalize the matrix again). At thi stage we can find the eigenvalues of the new hamiltonian by the following equation\n",
    "$$\\epsilon_1 - h_{11} = \\frac{h_{01}^2}{\\epsilon_1 - \\epsilon_0}$$\n",
    "First of all a plot of this functions (both the rhs and lhs)"
   ]
  },
  {
   "cell_type": "code",
   "execution_count": null,
   "metadata": {},
   "outputs": [],
   "source": [
    "x = np.linspace(-5,5,1000)\n",
    "plt.grid()\n",
    "plt.ylim(-10,10)\n",
    "plt.plot(x,x-hn[1,1])\n",
    "plt.plot(x,hn[0,1]**2/(x-hn[0,0]))\n",
    "plt.show()"
   ]
  },
  {
   "cell_type": "markdown",
   "metadata": {},
   "source": [
    "The intersections of the blu line with the orange one are our new eigenvalues of the hamiltonian. Managing the last equation this is equivalent to solve\n",
    "$$\\epsilon_1^2 - \\epsilon_1(h_{00} + h_{11}) + h_{00}h_{11} - h_{01}^2 = 0$$\n",
    "So let's define this equation first and then to solve it"
   ]
  },
  {
   "cell_type": "code",
   "execution_count": null,
   "metadata": {},
   "outputs": [],
   "source": [
    "def newEig(x):\n",
    "    f = x**2 - x*(hn[0,0]+hn[1,1]) + hn[0,0]*hn[1,1] - hn[0,1]**2\n",
    "    return f\n",
    "sol = sp.optimize.root(newEig,-2.)\n",
    "eigs[0] = sol.x\n",
    "sol = sp.optimize.root(newEig,1.)\n",
    "eigs[1] = sol.x\n",
    "eigs"
   ]
  },
  {
   "cell_type": "markdown",
   "metadata": {},
   "source": [
    "**Exactly the same eigenvalues of the new hamiltonian!!** The new diagonalized hamiltonian at the end of this step is"
   ]
  },
  {
   "cell_type": "markdown",
   "metadata": {},
   "source": [
    "## Third step"
   ]
  },
  {
   "cell_type": "markdown",
   "metadata": {},
   "source": [
    "Adding of another random basis element $|A_2>$ and calculation of the new elements of the scalar product matrix"
   ]
  },
  {
   "cell_type": "code",
   "execution_count": null,
   "metadata": {},
   "outputs": [],
   "source": [
    "a[2] = np.array([1,1,1])\n",
    "for i in range(3):\n",
    "    for j in range(3):\n",
    "        g[i,j] = a[i].transpose()@a[j]\n",
    "print('New scalar product matrix at this third step: \\n', g)"
   ]
  },
  {
   "cell_type": "markdown",
   "metadata": {},
   "source": [
    "Calculation of the others matrix elements in this new basis"
   ]
  },
  {
   "cell_type": "code",
   "execution_count": null,
   "metadata": {},
   "outputs": [],
   "source": [
    "ho[0,2] = 5\n",
    "ho[2,0] = ho[0,2]\n",
    "ho[1,2] = 5\n",
    "ho[2,1] = ho[1,2]\n",
    "ho[2,2] = 2\n",
    "print('New hamiltoniana at this third step: \\n', ho)"
   ]
  },
  {
   "cell_type": "markdown",
   "metadata": {},
   "source": [
    "As before we calculate the first and second row elements of the matrix $f_{ij}$ by using the new basis $|\\phi_{new}>$\n",
    "$$f_{0i} = <\\phi_{new 0}|A_i> \\\\ f_{1i} = <\\phi_{new 1}|A_i> $$"
   ]
  },
  {
   "cell_type": "code",
   "execution_count": null,
   "metadata": {},
   "outputs": [],
   "source": [
    "f[0,0] = phin[0]@a[0].transpose()\n",
    "f[0,1] = phin[0]@a[1].transpose()\n",
    "f[0,2] = phin[0]@a[2].transpose()\n",
    "f[1,0] = phin[1]@a[0].transpose()\n",
    "f[1,1] = phin[1]@a[1].transpose()\n",
    "f[1,2] = phin[1]@a[2].transpose()\n",
    "print('The matrix fij is: \\n',f)"
   ]
  },
  {
   "cell_type": "markdown",
   "metadata": {},
   "source": [
    "We found the new matrix $c_{ij}$ to project the new element onto the new orthonormal basis"
   ]
  },
  {
   "cell_type": "code",
   "execution_count": null,
   "metadata": {},
   "outputs": [],
   "source": [
    "tmp=0\n",
    "for i in range(2) :\n",
    "    tmp += f[i,2]**2\n",
    "n = np.sqrt(g[2,2] - tmp)\n",
    "cn[2,2] = 1/n\n",
    "for i in range(2) :\n",
    "    for j in range(2) :\n",
    "        cn[i,2] -= cn[i,j]*f[j,2]\n",
    "    cn[i,2] /= n\n",
    "print('The matrix cij at this second step is: \\n', cn)"
   ]
  },
  {
   "cell_type": "markdown",
   "metadata": {},
   "source": [
    "As before we applied the Gram-Scmidt orthonormalization procedure to gaussian basis but by using the new basis $|\\phi_{new}>$. The generalized expression of the new basis element is\n",
    "$$|A_{k+1}> → |\\phi_{k+1}> = \\frac{|A_{k+1}> -\\sum_{i=0}^{k}|\\phi_i><\\phi_i|A_{k+1}>}{\\sqrt{<A_{k+1}|A_{k+1}> - \\sum_{i=0}^{k}|<\\phi_i|A_{k+1}>|^2 }}$$"
   ]
  },
  {
   "cell_type": "code",
   "execution_count": null,
   "metadata": {},
   "outputs": [],
   "source": [
    "tmp = 0\n",
    "tmp2 = 0\n",
    "for i in range(2):\n",
    "    tmp += phin[i]*f[i,-1]\n",
    "    tmp2 += f[i,-1]**2\n",
    "phin[2] = (a[-1] - tmp)/np.sqrt(g[-1,-1] - tmp2)\n",
    "print('The new orthonormal basis element is: \\n', phin[2])\n",
    "print('The complete orthonormal basis set is: \\n ', phin)"
   ]
  },
  {
   "cell_type": "markdown",
   "metadata": {},
   "source": [
    "The matrix $f_{ij} = <\\phi_i|A_j>$ is"
   ]
  },
  {
   "cell_type": "code",
   "execution_count": null,
   "metadata": {},
   "outputs": [],
   "source": [
    "f = phin@a.transpose()\n",
    "print('The matrix fij is: \\n',f)"
   ]
  },
  {
   "cell_type": "markdown",
   "metadata": {},
   "source": [
    "Calculation of the hamiltonian elements in this new orthonormal basis set"
   ]
  },
  {
   "cell_type": "code",
   "execution_count": null,
   "metadata": {},
   "outputs": [],
   "source": [
    "hnn = cn.transpose()@ho@cn\n",
    "print('The new hamiltonian into the new basis element is: \\n', hnn)"
   ]
  },
  {
   "cell_type": "markdown",
   "metadata": {},
   "source": [
    "### Diagonalization of the hamiltoniana and introduction of new basis orthonormal for both hamiltoniana and scalar product"
   ]
  },
  {
   "cell_type": "code",
   "execution_count": null,
   "metadata": {},
   "outputs": [],
   "source": [
    "et2, wt2 = sp.linalg.eig(hnn)\n",
    "print('Eig vecs : \\n ', wt2)\n",
    "print('Eig vals : \\n ', et2)"
   ]
  },
  {
   "cell_type": "code",
   "execution_count": null,
   "metadata": {},
   "outputs": [],
   "source": [
    "phinn = wt2.transpose()@phin\n",
    "print('The new basis that makes both orthonormal the scalar product and diagonal the hamiltonian is:\\n', phinn)"
   ]
  },
  {
   "cell_type": "markdown",
   "metadata": {},
   "source": [
    "Finally the new ransformation matrix $c_{ij}$ and the matrix elements of the hamiltonian within it"
   ]
  },
  {
   "cell_type": "code",
   "execution_count": null,
   "metadata": {},
   "outputs": [],
   "source": [
    "cnn = cn@wt2\n",
    "hnd = cnn.transpose()@ho@cnn\n",
    "print('The hamiltonian at the end of this first step:\\n',hnd)"
   ]
  },
  {
   "cell_type": "markdown",
   "metadata": {},
   "source": [
    "### Suzuki - Varga pg 28 procedure"
   ]
  },
  {
   "cell_type": "markdown",
   "metadata": {},
   "source": [
    "Finding the eigenvalues of the new hamiltonian by the following equation general for any eigenvalues\n",
    "$$\\epsilon_{k+1} - h_{k+1, k+1} = \\sum_{i=0}^{k} \\frac{h_{i,k+1}^2}{\\epsilon_{k+1} - \\epsilon_i}$$\n",
    "First of all a plot of this functions (both the rhs and lhs)"
   ]
  },
  {
   "cell_type": "code",
   "execution_count": null,
   "metadata": {},
   "outputs": [],
   "source": [
    "def rhsE(x):\n",
    "    rhs = 0\n",
    "    for i in range(2):\n",
    "        rhs += hnn[i,-1]**2/(x - hnn[i,i])\n",
    "    return rhs\n",
    "x = np.linspace(-10,3,1000)\n",
    "plt.grid()\n",
    "plt.ylim(-5,15)\n",
    "plt.plot(x,x-hnn[-1,-1])\n",
    "plt.plot(x,rhsE(x))\n",
    "plt.show()"
   ]
  },
  {
   "cell_type": "markdown",
   "metadata": {},
   "source": [
    "The intersections of the blu line with the orange one are our new eigenvalues of the hamiltonian. \n",
    "So let's define this equation first and then to solve it"
   ]
  },
  {
   "cell_type": "code",
   "execution_count": null,
   "metadata": {},
   "outputs": [],
   "source": [
    "def newEig2(x):\n",
    "    f = x - hnn[-1,-1] - rhsE(x)\n",
    "    return f\n",
    "sol = sp.optimize.root(newEig2,-10.)\n",
    "eigs[0] = sol.x\n",
    "sol = sp.optimize.root(newEig2,-2.)\n",
    "eigs[1] = sol.x\n",
    "sol = sp.optimize.root(newEig2,2.)\n",
    "eigs[2] = sol.x\n",
    "eigs"
   ]
  },
  {
   "cell_type": "markdown",
   "metadata": {},
   "source": [
    "# Example from the codes"
   ]
  },
  {
   "cell_type": "code",
   "execution_count": null,
   "metadata": {},
   "outputs": [],
   "source": [
    "ham = np.array(([-0.00115019 , -0.00136814] , [-0.00136814 , 0.00461564]))\n",
    "ham"
   ]
  },
  {
   "cell_type": "code",
   "execution_count": null,
   "metadata": {},
   "outputs": [],
   "source": [
    "def rhsE(x):\n",
    "    rhs = 0\n",
    "    for i in range(1):\n",
    "        rhs += ham[i,-1]**2/(x - ham[i,i])\n",
    "    return rhs\n",
    "x = np.linspace(ham[0,0] + 2*ham[0,0],ham[-1,-1],1000)\n",
    "plt.grid()\n",
    "plt.ylim(-0.01,0.01)\n",
    "plt.plot(x,x-ham[-1,-1])\n",
    "plt.plot(x,rhsE(x))\n",
    "plt.show()"
   ]
  },
  {
   "cell_type": "code",
   "execution_count": null,
   "metadata": {},
   "outputs": [],
   "source": [
    "def newEig2(x):\n",
    "    f = x - ham[-1,-1] - rhsE(x)\n",
    "    return f\n",
    "sol = sp.optimize.root(newEig2,ham[0,0] + 0.8*ham[0,0])\n",
    "print(sol.x)"
   ]
  },
  {
   "cell_type": "markdown",
   "metadata": {},
   "source": [
    "# SVD to fix NaN"
   ]
  },
  {
   "cell_type": "code",
   "execution_count": 2,
   "metadata": {},
   "outputs": [
    {
     "name": "stdout",
     "output_type": "stream",
     "text": [
      "[ 9.67645667 30.23378741 29.81403807]\n",
      "[0.0106799  0.00109399 0.00112502]\n"
     ]
    },
    {
     "data": {
      "text/plain": [
       "array([[0.0106799 , 0.        , 0.        ],\n",
       "       [0.        , 0.00109399, 0.        ],\n",
       "       [0.        , 0.        , 0.00112502]])"
      ]
     },
     "execution_count": 2,
     "metadata": {},
     "output_type": "execute_result"
    }
   ],
   "source": [
    "d = 60*np.random.random(3)\n",
    "print(d)\n",
    "alphas = 1/d**2\n",
    "print(alphas)\n",
    "aDiag = np.diag(alphas)\n",
    "aDiag"
   ]
  },
  {
   "cell_type": "code",
   "execution_count": 3,
   "metadata": {},
   "outputs": [
    {
     "data": {
      "text/plain": [
       "array([[ 1.        , -1.        ,  0.        ],\n",
       "       [ 0.5       ,  0.5       ,  1.        ],\n",
       "       [ 0.33333333,  0.33333333,  0.33333333]])"
      ]
     },
     "execution_count": 3,
     "metadata": {},
     "output_type": "execute_result"
    }
   ],
   "source": [
    "U = np.array([[1.,-1.,0],[1/2,1/2,1],[1/3,1/3,1/3]])\n",
    "U"
   ]
  },
  {
   "cell_type": "code",
   "execution_count": 4,
   "metadata": {},
   "outputs": [
    {
     "name": "stdout",
     "output_type": "stream",
     "text": [
      "[[ 0.5 -1.   3. ]\n",
      " [-0.5 -1.   3. ]\n",
      " [-0.   2.  -3. ]]\n",
      "[ 0.5 -1.   3. ]\n"
     ]
    },
    {
     "data": {
      "text/plain": [
       "array([-0.,  2., -3.])"
      ]
     },
     "execution_count": 4,
     "metadata": {},
     "output_type": "execute_result"
    }
   ],
   "source": [
    "U1 = np.linalg.inv(U)\n",
    "print(U1)\n",
    "print(U1[0,:])\n",
    "U1[2,:]"
   ]
  },
  {
   "cell_type": "code",
   "execution_count": 5,
   "metadata": {},
   "outputs": [
    {
     "name": "stdout",
     "output_type": "stream",
     "text": [
      "[[ 1.   0. ]\n",
      " [ 0.5 -3. ]\n",
      " [-0.5 -3. ]]\n",
      "[[ 1.   0.   0. ]\n",
      " [ 0.5 -3.   6. ]\n",
      " [-0.5 -3.   6. ]]\n"
     ]
    }
   ],
   "source": [
    "pairs = np.array([[0,1],[0,2],[1,2]])\n",
    "W = np.zeros((3,2))\n",
    "for i in range(3):\n",
    "    for j in range(2):\n",
    "        W[i,j] = U1[pairs[i,0],j] - U1[pairs[i,1],j]       \n",
    "WT = np.array([U1[0,:] - U1[1,:], U1[0,:] - U1[2,:], U1[1,:] - U1[2,:]])\n",
    "print(W)\n",
    "print(WT)"
   ]
  },
  {
   "cell_type": "code",
   "execution_count": 6,
   "metadata": {},
   "outputs": [
    {
     "name": "stdout",
     "output_type": "stream",
     "text": [
      "[[1.12346548e-02 4.65320138e-05]\n",
      " [4.65320138e-05 1.99710818e-02]]\n"
     ]
    }
   ],
   "source": [
    "A = np.transpose(W)@aDiag@W\n",
    "print(A)"
   ]
  },
  {
   "cell_type": "code",
   "execution_count": 7,
   "metadata": {},
   "outputs": [
    {
     "name": "stdout",
     "output_type": "stream",
     "text": [
      "[[734182.54896864      0.              0.        ]\n",
      " [     0.              0.              0.        ]\n",
      " [     0.              0.              0.        ]]\n"
     ]
    }
   ],
   "source": [
    "g = np.zeros((3,3))\n",
    "g[0,0] = 1/4/np.pi*((2*np.pi)**2/np.linalg.det(A+A))**1.5\n",
    "print(g)"
   ]
  },
  {
   "cell_type": "code",
   "execution_count": 8,
   "metadata": {},
   "outputs": [
    {
     "name": "stdout",
     "output_type": "stream",
     "text": [
      "[10.64262973 57.88051156 16.25791776]\n",
      "[0.00882881 0.00029849 0.00378329]\n",
      "[[0.00984926 0.0052272 ]\n",
      " [0.0052272  0.03673609]]\n"
     ]
    }
   ],
   "source": [
    "d1 = 60*np.random.random(3)\n",
    "#d1 = np.array([0.95315 , 0.95130, 0.6619])\n",
    "print(d1)\n",
    "alphas1 = 1/d1**2\n",
    "print(alphas1)\n",
    "a1Diag = np.diag(alphas1)\n",
    "a1Diag\n",
    "A1 = np.transpose(W)@a1Diag@W\n",
    "print(A1)"
   ]
  },
  {
   "cell_type": "code",
   "execution_count": 9,
   "metadata": {},
   "outputs": [
    {
     "name": "stdout",
     "output_type": "stream",
     "text": [
      "[[734182.54896864 494628.16058731      0.        ]\n",
      " [494628.16058731 403316.91679495      0.        ]\n",
      " [     0.              0.              0.        ]]\n"
     ]
    }
   ],
   "source": [
    "g[0,1] = 1/4/np.pi*((2*np.pi)**2/np.linalg.det(A+A1))**1.5\n",
    "g[1,1] = 1/4/np.pi*((2*np.pi)**2/np.linalg.det(A1+A1))**1.5\n",
    "g[1,0] = g[0,1]\n",
    "print(g)"
   ]
  },
  {
   "cell_type": "code",
   "execution_count": 14,
   "metadata": {},
   "outputs": [
    {
     "name": "stdout",
     "output_type": "stream",
     "text": [
      "[50.58493803 16.05142796 42.9746023 ]\n",
      "[0.0003908  0.00388126 0.00054147]\n",
      "[[ 0.00149649 -0.00500968]\n",
      " [-0.00500968  0.03980458]]\n"
     ]
    }
   ],
   "source": [
    "# d2 = np.random.random(3)\n",
    "d2 = np.array([50.58493803, 16.05142796, 42.9746023])\n",
    "print(d2)\n",
    "alphas2 = 1/d2**2\n",
    "print(alphas2)\n",
    "a2Diag = np.diag(alphas2)\n",
    "a2Diag\n",
    "A2 = np.transpose(W)@a2Diag@W\n",
    "print(A2)"
   ]
  },
  {
   "cell_type": "code",
   "execution_count": 15,
   "metadata": {},
   "outputs": [
    {
     "name": "stdout",
     "output_type": "stream",
     "text": [
      "[[   96967.41745188   334889.10638514   334889.1063963 ]\n",
      " [  334889.10638514 12192033.33055    12192033.33098375]\n",
      " [  334889.1063963  12192033.33098375 12192033.33141758]]\n"
     ]
    }
   ],
   "source": [
    "g[0,2] = 1/4/np.pi*((2*np.pi)**2/np.linalg.det(A+A2))**1.5\n",
    "g[1,2] = 1/4/np.pi*((2*np.pi)**2/np.linalg.det(A1+A2))**1.5\n",
    "g[2,2] = 1/4/np.pi*((2*np.pi)**2/np.linalg.det(A2+A2))**1.5\n",
    "g[2,0] = g[0,2]\n",
    "g[2,1] = g[1,2]\n",
    "print(g)"
   ]
  },
  {
   "cell_type": "code",
   "execution_count": 16,
   "metadata": {},
   "outputs": [
    {
     "name": "stdout",
     "output_type": "stream",
     "text": [
      "[[ 1.13935796e-05 -1.32039977e-04  1.31666719e-04]\n",
      " [-1.31924909e-04  1.53391689e+07 -1.53391689e+07]\n",
      " [ 1.31611952e-04 -1.53391689e+07  1.53391689e+07]]\n"
     ]
    }
   ],
   "source": [
    "g1 = np.linalg.inv(g)\n",
    "print(g1)"
   ]
  },
  {
   "cell_type": "code",
   "execution_count": 17,
   "metadata": {},
   "outputs": [
    {
     "name": "stdout",
     "output_type": "stream",
     "text": [
      "[[1.34 2.9  7.92]\n",
      " [2.9  1.63 4.37]\n",
      " [7.92 4.37 5.81]]\n"
     ]
    }
   ],
   "source": [
    "ha = np.array([[1.34, 2.9, 7.92],[2.9, 1.63, 4.37],[7.92,4.37,5.81]])\n",
    "print(ha)"
   ]
  },
  {
   "cell_type": "code",
   "execution_count": 18,
   "metadata": {},
   "outputs": [
    {
     "name": "stdout",
     "output_type": "stream",
     "text": [
      "[-1.99409196e+07  2.27664739e-04 -1.13448291e-07]\n"
     ]
    }
   ],
   "source": [
    "H = g1@ha\n",
    "e,w = np.linalg.eig(H)\n",
    "print(e)"
   ]
  },
  {
   "cell_type": "code",
   "execution_count": 26,
   "metadata": {},
   "outputs": [
    {
     "name": "stdout",
     "output_type": "stream",
     "text": [
      "[[-1.94891468e-02  9.99810069e-01  6.07428966e-12]\n",
      " [-7.06972479e-01 -1.37809078e-02 -7.07106781e-01]\n",
      " [-7.06972479e-01 -1.37809078e-02  7.07106781e-01]]\n",
      "[[2.43932986e+07 0.00000000e+00 0.00000000e+00]\n",
      " [0.00000000e+00 8.77355122e+04 0.00000000e+00]\n",
      " [0.00000000e+00 0.00000000e+00 3.25979531e-08]]\n",
      "[[2.43932986e+07 0.00000000e+00 0.00000000e+00]\n",
      " [0.00000000e+00 8.77355122e+04 0.00000000e+00]\n",
      " [0.00000000e+00 0.00000000e+00 3.29272249e-08]]\n",
      "[[-1.94891468e-02 -9.99810069e-01  6.07498804e-12]\n",
      " [-7.06972479e-01  1.37809078e-02 -7.07106781e-01]\n",
      " [-7.06972479e-01  1.37809078e-02  7.07106781e-01]]\n"
     ]
    },
    {
     "data": {
      "text/plain": [
       "array([[ 1.00000000e+00, -7.74410041e-16,  3.84097105e-16],\n",
       "       [-7.74410041e-16,  1.00000000e+00, -5.55111512e-17],\n",
       "       [ 3.84097105e-16, -5.55111512e-17,  1.00000000e+00]])"
      ]
     },
     "execution_count": 26,
     "metadata": {},
     "output_type": "execute_result"
    }
   ],
   "source": [
    "U,S,V = sp.linalg.svd(g)\n",
    "print(U)\n",
    "S = np.diag(S)\n",
    "print(S)\n",
    "D,W = np.linalg.eig(g)\n",
    "print(np.diag(D))\n",
    "print(W)\n",
    "\n",
    "W@np.transpose(W)\n",
    "# S1 = np.zeros((3,3))\n",
    "# S1[0:2,0:2] = 1/S[0:2,0:2]\n",
    "# S1[0,1] = 0.\n",
    "# S1[1,0] = 0.\n",
    "# print(S1)"
   ]
  },
  {
   "cell_type": "code",
   "execution_count": 20,
   "metadata": {},
   "outputs": [
    {
     "name": "stdout",
     "output_type": "stream",
     "text": [
      "[[ 1.13935796e-05 -1.56478644e-07 -1.56478644e-07]\n",
      " [-1.56478644e-07  2.26542603e-08  2.26542603e-08]\n",
      " [-1.56478644e-07  2.26542603e-08  2.26542603e-08]]\n",
      "[[ 1.13935796e-05 -1.21513903e-04  1.21200945e-04]\n",
      " [-1.21513903e-04  1.41281819e+07 -1.41281819e+07]\n",
      " [ 1.21200945e-04 -1.41281819e+07  1.41281819e+07]]\n"
     ]
    },
    {
     "data": {
      "text/plain": [
       "array([-1.83666365e+07,  2.28507734e-04, -1.18136158e-07])"
      ]
     },
     "execution_count": 20,
     "metadata": {},
     "output_type": "execute_result"
    }
   ],
   "source": [
    "gt1 = U@S1@V\n",
    "print(gt1)\n",
    "gt1 = np.linalg.pinv(g,hermitian=True)\n",
    "print(gt1)\n",
    "et,wt = np.linalg.eig(gt1@ha)\n",
    "et"
   ]
  },
  {
   "cell_type": "code",
   "execution_count": 2,
   "metadata": {},
   "outputs": [
    {
     "name": "stdout",
     "output_type": "stream",
     "text": [
      "A:\n",
      " [[ 1.  -2.4 -7. ]\n",
      " [-2.4 -5.1  6.7]\n",
      " [-7.   6.7 -9.2]]\n",
      "B:\n",
      " [[3. 7. 7.]\n",
      " [7. 6. 6.]\n",
      " [7. 6. 6.]]\n",
      "Eigenvalues B:\n",
      " [ 1.83742816e+01 -3.37428159e+00 -4.39625888e-15]\n",
      "Det(B):\n",
      " 3.0286884111774275e-13\n",
      "Binv:\n",
      " [[-1.93548387e-01  2.32142857e-01  0.00000000e+00]\n",
      " [ 2.25806452e-01 -1.02354537e+14  1.02354537e+14]\n",
      " [-0.00000000e+00  1.02354537e+14 -1.02354537e+14]]\n",
      "Eigenvec Binv A:\n",
      " [[ 9.05227861e-16  8.51984154e-01 -7.37791406e-01]\n",
      " [-7.07106781e-01 -2.71274558e-01 -6.26444066e-01]\n",
      " [ 7.07106781e-01 -4.47809239e-01 -2.51459089e-01]]\n",
      "Eigenval Binv A:\n",
      " [ 2.83522067e+15 -2.05124864e+00 -3.69657338e-01]\n"
     ]
    }
   ],
   "source": [
    "A = np.array([[1.,-2.4,-7.],[-2.4,-5.1,6.7],[-7.,6.7,-9.2]])\n",
    "B = np.array([[3.,7.,7.],[7.,6.,6.],[7.,6.,5.99999999999999]])\n",
    "print('A:\\n', A)\n",
    "print('B:\\n', B)\n",
    "print('Eigenvalues B:\\n', np.linalg.eig(B)[0])\n",
    "print('Det(B):\\n',np.linalg.det(B))\n",
    "print('Binv:\\n', np.linalg.inv(B))\n",
    "l,u = np.linalg.eig(np.linalg.inv(B)@A)\n",
    "print('Eigenvec Binv A:\\n', u)\n",
    "print('Eigenval Binv A:\\n', l)"
   ]
  },
  {
   "cell_type": "code",
   "execution_count": 7,
   "metadata": {},
   "outputs": [
    {
     "name": "stdout",
     "output_type": "stream",
     "text": [
      "Eigenvec B:\n",
      " [[-5.41377668e-01 -8.40779531e-01  7.30598377e-16]\n",
      " [-5.94520908e-01  3.82811820e-01 -7.07106781e-01]\n",
      " [-5.94520908e-01  3.82811820e-01  7.07106781e-01]]\n",
      "Eigenval B:\n",
      " [[ 1.83742816e+01  0.00000000e+00  0.00000000e+00]\n",
      " [ 0.00000000e+00 -3.37428159e+00  0.00000000e+00]\n",
      " [ 0.00000000e+00  0.00000000e+00 -4.39625888e-15]]\n",
      "Pseudoinv B:\n",
      " [[-0.19354839  0.11290323  0.11290323]\n",
      " [ 0.11290323 -0.02419355 -0.02419355]\n",
      " [ 0.11290323 -0.02419355 -0.02419355]]\n",
      "Eigenval PinvB A:\n",
      " [-1.91930262e+00 -3.75052221e-01 -1.17763742e-16]\n",
      "Pseudoinv of Eig matrix of B:\n",
      " [[ 0.0544239   0.          0.        ]\n",
      " [ 0.         -0.29635938  0.        ]\n",
      " [ 0.          0.          0.        ]]\n",
      "Pseudoinv B code :\n",
      " [[-0.19354839  0.11290323  0.11290323]\n",
      " [ 0.11290323 -0.02419355 -0.02419355]\n",
      " [ 0.11290323 -0.02419355 -0.02419355]]\n"
     ]
    }
   ],
   "source": [
    "D,U = np.linalg.eig(B)\n",
    "print('Eigenvec B:\\n',U)\n",
    "print('Eigenval B:\\n',np.diag(D))\n",
    "print('Pseudoinv B:\\n',np.linalg.pinv(B))\n",
    "l,u = np.linalg.eig(np.linalg.pinv(B)@A)\n",
    "print('Eigenval PinvB A:\\n',l)\n",
    "PinvD =np.zeros((3,3))\n",
    "for i in range(2):\n",
    "    PinvD[i,i] = 1/np.diag(D)[i,i]\n",
    "PinvD[2,2] = 0.\n",
    "print('Pseudoinv of Eig matrix of B:\\n', PinvD)\n",
    "print('Pseudoinv B code :\\n', U@PinvD@np.transpose(U))"
   ]
  },
  {
   "cell_type": "code",
   "execution_count": 31,
   "metadata": {},
   "outputs": [
    {
     "name": "stdout",
     "output_type": "stream",
     "text": [
      "Eigenvec B:\n",
      " [[-5.87388664e-01  8.09304984e-01  1.02787791e-15]\n",
      " [-5.72265043e-01 -4.15346507e-01 -7.07106781e-01]\n",
      " [-5.72265043e-01 -4.15346507e-01  7.07106781e-01]]\n",
      "Eigenval B:\n",
      " [[1.52654816e+01 0.00000000e+00 0.00000000e+00]\n",
      " [0.00000000e+00 1.99124856e+00 0.00000000e+00]\n",
      " [0.00000000e+00 0.00000000e+00 4.35942595e-15]]\n"
     ]
    }
   ],
   "source": [
    "U,D,V = sp.linalg.svd(B)\n",
    "print('Eigenvec B:\\n',U)\n",
    "print('Eigenval B:\\n',np.diag(D))"
   ]
  },
  {
   "cell_type": "code",
   "execution_count": 3,
   "metadata": {},
   "outputs": [],
   "source": [
    "H = np.array([[ -3580.75 ,-36700.7],[-36700.7  ,35026.2]])\n",
    "PinvG = np.array([[0.000000649599 , -0.000000061265],[-0.000000061265  , 0.000000020147]])\n",
    "l,w = np.linalg.eig()"
   ]
  },
  {
   "cell_type": "code",
   "execution_count": 19,
   "metadata": {},
   "outputs": [
    {
     "data": {
      "text/plain": [
       "['A',\n",
       " 'alphas',\n",
       " 'cij',\n",
       " 'coulombPotential',\n",
       " 'fourBodyPotential',\n",
       " 'harmonicTrap',\n",
       " 'isospins',\n",
       " 'kinetic',\n",
       " 'overlaps',\n",
       " 'phiij',\n",
       " 'radiusSquare',\n",
       " 'spins',\n",
       " 'threeBodyPotential',\n",
       " 'threeBodyPotentialSpin',\n",
       " 'twoBodyPotential',\n",
       " 'u']"
      ]
     },
     "execution_count": 19,
     "metadata": {},
     "output_type": "execute_result"
    }
   ],
   "source": [
    "f = h5py.File(\"2BodySVD_8.h5\")\n",
    "list(f)"
   ]
  },
  {
   "cell_type": "code",
   "execution_count": 20,
   "metadata": {},
   "outputs": [],
   "source": [
    "k = f['kinetic'][:]"
   ]
  },
  {
   "cell_type": "code",
   "execution_count": 21,
   "metadata": {},
   "outputs": [],
   "source": [
    "p = f['twoBodyPotential'][:]"
   ]
  },
  {
   "cell_type": "code",
   "execution_count": 22,
   "metadata": {},
   "outputs": [
    {
     "data": {
      "text/plain": [
       "(6, 6)"
      ]
     },
     "execution_count": 22,
     "metadata": {},
     "output_type": "execute_result"
    }
   ],
   "source": [
    "h = k + p\n",
    "h.shape"
   ]
  },
  {
   "cell_type": "code",
   "execution_count": 24,
   "metadata": {},
   "outputs": [
    {
     "data": {
      "text/plain": [
       "(6, 6)"
      ]
     },
     "execution_count": 24,
     "metadata": {},
     "output_type": "execute_result"
    }
   ],
   "source": [
    "overlap = f['overlaps'][:]\n",
    "overlap.shape"
   ]
  },
  {
   "cell_type": "code",
   "execution_count": 25,
   "metadata": {},
   "outputs": [
    {
     "data": {
      "text/plain": [
       "(6, 6)"
      ]
     },
     "execution_count": 25,
     "metadata": {},
     "output_type": "execute_result"
    }
   ],
   "source": [
    "cij = f['cij'][:]\n",
    "cij.shape"
   ]
  },
  {
   "cell_type": "code",
   "execution_count": 26,
   "metadata": {},
   "outputs": [
    {
     "data": {
      "text/plain": [
       "array([[ 2.88356944e-03,  7.18265623e-06,  4.97409914e-05,\n",
       "         1.47589663e-04,  5.59129765e-05,  5.36180290e-02],\n",
       "       [ 7.18265623e-06,  1.46526500e-03, -4.10426952e-05,\n",
       "         1.53513363e-05,  2.47362591e-05, -6.16300640e-05],\n",
       "       [ 4.97409914e-05, -4.10426952e-05,  5.71459749e-04,\n",
       "         3.22293393e-06, -1.82379291e-05,  6.42469428e-05],\n",
       "       [ 1.47589663e-04,  1.53513363e-05,  3.22293393e-06,\n",
       "         1.82430498e-04,  9.10298083e-06,  2.25768478e-03],\n",
       "       [ 5.59129765e-05,  2.47362591e-05, -1.82379291e-05,\n",
       "         9.10298083e-06,  5.69106871e-04,  8.31562435e-04],\n",
       "       [ 5.36180290e-02, -6.16300640e-05,  6.42469428e-05,\n",
       "         2.25768478e-03,  8.31562435e-04,  9.99999197e-01]])"
      ]
     },
     "execution_count": 26,
     "metadata": {},
     "output_type": "execute_result"
    }
   ],
   "source": [
    "cij@np.transpose(cij)"
   ]
  },
  {
   "cell_type": "code",
   "execution_count": 27,
   "metadata": {},
   "outputs": [
    {
     "data": {
      "text/plain": [
       "(array([2.54561116e-01+0.j, 4.90520976e-03+0.j, 2.98357423e-03+0.j,\n",
       "        1.47075979e-03+0.j, 6.60148786e-04+0.j, 1.59913351e-04+0.j,\n",
       "        6.70788299e-06+0.j]),\n",
       " array([[ 1.51864104e-01, -1.83028810e-01,  1.73835114e-01,\n",
       "         -1.60249842e-01, -1.35369878e-01,  1.37930720e-01,\n",
       "         -1.89374721e-01],\n",
       "        [-3.91409759e-01,  4.71922387e-01, -5.94853469e-01,\n",
       "          6.17738242e-01,  6.68585748e-01, -6.54224093e-01,\n",
       "          2.85583024e-01],\n",
       "        [ 3.57433453e-01, -4.30662995e-01,  5.47069317e-01,\n",
       "         -5.70949110e-01, -6.23576282e-01,  6.11299733e-01,\n",
       "         -2.52071273e-01],\n",
       "        [ 3.85781135e-01, -4.52948553e-01,  3.29630935e-01,\n",
       "         -3.04280024e-01, -2.20808234e-01,  2.48352964e-01,\n",
       "         -5.58226694e-01],\n",
       "        [-5.02958661e-01,  5.94267676e-01, -4.56056435e-01,\n",
       "          4.17310299e-01,  3.11548649e-01, -3.42924326e-01,\n",
       "          7.11778047e-01],\n",
       "        [-5.42385954e-01, -1.62401543e-03, -1.35677582e-03,\n",
       "         -1.53195239e-03,  1.37013494e-03,  1.51698044e-03,\n",
       "         -2.76557453e-02],\n",
       "        [-3.14888581e-07,  2.96998051e-07, -5.83048607e-07,\n",
       "          8.92327672e-07,  2.35164446e-06, -7.82072338e-06,\n",
       "         -5.45482174e-03]]))"
      ]
     },
     "execution_count": 27,
     "metadata": {},
     "output_type": "execute_result"
    }
   ],
   "source": [
    "sp.linalg.eig(h,overlap)"
   ]
  },
  {
   "cell_type": "code",
   "execution_count": null,
   "metadata": {},
   "outputs": [],
   "source": []
  }
 ],
 "metadata": {
  "kernelspec": {
   "display_name": "Python 3",
   "language": "python",
   "name": "python3"
  },
  "language_info": {
   "codemirror_mode": {
    "name": "ipython",
    "version": 3
   },
   "file_extension": ".py",
   "mimetype": "text/x-python",
   "name": "python",
   "nbconvert_exporter": "python",
   "pygments_lexer": "ipython3",
   "version": "3.8.5"
  }
 },
 "nbformat": 4,
 "nbformat_minor": 2
}
